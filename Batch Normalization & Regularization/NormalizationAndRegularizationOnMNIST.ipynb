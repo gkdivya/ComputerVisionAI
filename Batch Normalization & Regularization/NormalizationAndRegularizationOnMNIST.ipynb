{
  "nbformat": 4,
  "nbformat_minor": 0,
  "metadata": {
    "colab": {
      "name": "NormalizationAndRegularizationOnMNIST.ipynb",
      "version": "0.3.2",
      "provenance": [],
      "collapsed_sections": [],
      "toc_visible": true,
      "include_colab_link": true
    },
    "kernelspec": {
      "name": "python3",
      "display_name": "Python 3"
    },
    "accelerator": "GPU"
  },
  "cells": [
    {
      "cell_type": "markdown",
      "metadata": {
        "id": "view-in-github",
        "colab_type": "text"
      },
      "source": [
        "<a href=\"https://colab.research.google.com/github/gkdivya/EVA/blob/master/Batch%20Normalization%20%26%20Regularization/NormalizationAndRegularizationOnMNIST.ipynb\" target=\"_parent\"><img src=\"https://colab.research.google.com/assets/colab-badge.svg\" alt=\"Open In Colab\"/></a>"
      ]
    },
    {
      "cell_type": "markdown",
      "metadata": {
        "colab_type": "text",
        "id": "sqk2iHkyD_fD"
      },
      "source": [
        "# Normalization and Regularization on MNIST \n",
        "\n",
        "#### On MNIST digits classification, let us analyze the impact of performing \n",
        "\n",
        "*   Image normalization\n",
        "*   L2 regularization (With Custom loss function)\n",
        "*   Activation (ReLU) after performing Batch Normalization\n",
        "\n",
        "\n",
        "\n",
        "\n",
        "\n"
      ]
    },
    {
      "cell_type": "markdown",
      "metadata": {
        "id": "6h_9V-jEInZK",
        "colab_type": "text"
      },
      "source": [
        "### Importing Libraries"
      ]
    },
    {
      "cell_type": "code",
      "metadata": {
        "id": "0SJyVpgSxHt4",
        "colab_type": "code",
        "colab": {}
      },
      "source": [
        "import os\n",
        "import numpy as np\n",
        "\n",
        "import keras.backend as K\n",
        "from keras import models\n",
        "from keras.models import Sequential\n",
        "from keras.layers import Dense, Dropout, Activation, Flatten, Add, BatchNormalization\n",
        "from keras.layers import Convolution2D, MaxPooling2D\n",
        "from keras.preprocessing.image import ImageDataGenerator\n",
        "from keras.callbacks import ModelCheckpoint, EarlyStopping\n",
        "from keras.utils import np_utils\n",
        "\n",
        "from keras.datasets import mnist"
      ],
      "execution_count": 0,
      "outputs": []
    },
    {
      "cell_type": "code",
      "metadata": {
        "id": "9tdwO2pWRPX4",
        "colab_type": "code",
        "colab": {}
      },
      "source": [
        "def plot_images(pixels, indexes, labels=None, image_size=(28, 28)):\n",
        "    \"\"\"Given a dataset, its labels (if they exist)\n",
        "    and the indexes to plot, plots the image(s).\"\"\"\n",
        "    \n",
        "    plots_num = len(indexes)\n",
        "    current_plot = 1\n",
        "    for idx in indexes:\n",
        "        image = pixels[idx].reshape(image_size)\n",
        "        ax = plt.subplot(1, plots_num, current_plot)\n",
        "        ax.imshow(image, cmap=plt.get_cmap('gray'))\n",
        "        label = -1 if labels is None else labels[idx]\n",
        "        ax.set_title(\"label:%i\" %label)\n",
        "        current_plot +=1\n",
        "    plt.show()"
      ],
      "execution_count": 0,
      "outputs": []
    },
    {
      "cell_type": "markdown",
      "metadata": {
        "id": "JxYqx-UCCimY",
        "colab_type": "text"
      },
      "source": [
        "### Preparing Dataset "
      ]
    },
    {
      "cell_type": "code",
      "metadata": {
        "id": "YlEUplvoxKAT",
        "colab_type": "code",
        "colab": {}
      },
      "source": [
        "(trainX, trainY), (testX, testY) = mnist.load_data()\n"
      ],
      "execution_count": 0,
      "outputs": []
    },
    {
      "cell_type": "code",
      "metadata": {
        "id": "XBp3HWUvWh_-",
        "colab_type": "code",
        "outputId": "c0e2075c-d25f-4e14-ed1b-948ad3e78efd",
        "colab": {
          "base_uri": "https://localhost:8080/",
          "height": 54
        }
      },
      "source": [
        "from google.colab import drive\n",
        "drive.mount('/content/drive')"
      ],
      "execution_count": 86,
      "outputs": [
        {
          "output_type": "stream",
          "text": [
            "Drive already mounted at /content/drive; to attempt to forcibly remount, call drive.mount(\"/content/drive\", force_remount=True).\n"
          ],
          "name": "stdout"
        }
      ]
    },
    {
      "cell_type": "code",
      "metadata": {
        "id": "I6Y9Va-xxMXG",
        "colab_type": "code",
        "outputId": "e30724f5-4f8c-460c-f711-b16259b1aa49",
        "colab": {
          "base_uri": "https://localhost:8080/",
          "height": 303
        }
      },
      "source": [
        "print (trainX.shape)\n",
        "from matplotlib import pyplot as plt\n",
        "%matplotlib inline\n",
        "plt.imshow(trainX[1])"
      ],
      "execution_count": 87,
      "outputs": [
        {
          "output_type": "stream",
          "text": [
            "(60000, 28, 28)\n"
          ],
          "name": "stdout"
        },
        {
          "output_type": "execute_result",
          "data": {
            "text/plain": [
              "<matplotlib.image.AxesImage at 0x7fb4c82a5e80>"
            ]
          },
          "metadata": {
            "tags": []
          },
          "execution_count": 87
        },
        {
          "output_type": "display_data",
          "data": {
            "image/png": "[encoded data removed]",
            "text/plain": [
              "<Figure size 432x288 with 1 Axes>"
            ]
          },
          "metadata": {
            "tags": []
          }
        }
      ]
    },
    {
      "cell_type": "code",
      "metadata": {
        "id": "lxDZxPhhxOgO",
        "colab_type": "code",
        "colab": {}
      },
      "source": [
        "trainX = trainX.reshape(trainX.shape[0], 28, 28,1)\n",
        "testX = testX.reshape(testX.shape[0], 28, 28,1)"
      ],
      "execution_count": 0,
      "outputs": []
    },
    {
      "cell_type": "code",
      "metadata": {
        "id": "3HzMqbTnxQQW",
        "colab_type": "code",
        "colab": {}
      },
      "source": [
        "trainX = trainX.astype('float32')\n",
        "testX = testX.astype('float32')\n",
        "trainX /= 255\n",
        "testX /= 255"
      ],
      "execution_count": 0,
      "outputs": []
    },
    {
      "cell_type": "code",
      "metadata": {
        "id": "7LdYiW6ixR9e",
        "colab_type": "code",
        "colab": {}
      },
      "source": [
        "trainY[:10]\n",
        "trainY = np_utils.to_categorical(trainY, 10)\n",
        "testY = np_utils.to_categorical(testY, 10)"
      ],
      "execution_count": 0,
      "outputs": []
    },
    {
      "cell_type": "code",
      "metadata": {
        "id": "bMHUrZirbL3g",
        "colab_type": "code",
        "colab": {}
      },
      "source": [
        "# applying transformation to image\n",
        "train_gen = ImageDataGenerator(featurewise_center=True, featurewise_std_normalization=True)\n",
        "test_gen = ImageDataGenerator()\n",
        "# fit the data augmentation\n",
        "train_gen.fit(trainX)\n",
        "test_gen.fit(testX)\n"
      ],
      "execution_count": 0,
      "outputs": []
    },
    {
      "cell_type": "code",
      "metadata": {
        "id": "sq1OX1MTSFuW",
        "colab_type": "code",
        "colab": {}
      },
      "source": [
        "training_set= train_gen.flow(trainX, trainY, batch_size=128)\n",
        "testing_set= test_gen.flow(testX, testY, batch_size=128)"
      ],
      "execution_count": 0,
      "outputs": []
    },
    {
      "cell_type": "code",
      "metadata": {
        "id": "sCRouqlmRUD7",
        "colab_type": "code",
        "colab": {}
      },
      "source": [
        ""
      ],
      "execution_count": 0,
      "outputs": []
    },
    {
      "cell_type": "code",
      "metadata": {
        "id": "K_sDRSXHFN1M",
        "colab_type": "code",
        "outputId": "04970d83-1a55-4797-f790-2818c3887f6d",
        "colab": {
          "base_uri": "https://localhost:8080/",
          "height": 595
        }
      },
      "source": [
        "# Quick look at the some resulting images\n",
        "plt.gcf().set_size_inches(10, 10)\n",
        "for x_batch, y_batch in training_set:\n",
        "    for i in range(0, 25):\n",
        "        plt.subplot(5, 5, i+1)\n",
        "        plt.imshow(x_batch[i].reshape(28, 28), cmap=plt.get_cmap('gray'))\n",
        "    break"
      ],
      "execution_count": 93,
      "outputs": [
        {
          "output_type": "display_data",
          "data": {
            "image/png": "[encoded data removed]",
            "text/plain": [
              "<Figure size 720x720 with 25 Axes>"
            ]
          },
          "metadata": {
            "tags": []
          }
        }
      ]
    },
    {
      "cell_type": "code",
      "metadata": {
        "id": "rFR0F9j0xVp2",
        "colab_type": "code",
        "outputId": "bb0f7dfc-acf4-444d-84ab-38efa8287c0c",
        "colab": {
          "base_uri": "https://localhost:8080/",
          "height": 187
        }
      },
      "source": [
        "trainY[:10]"
      ],
      "execution_count": 94,
      "outputs": [
        {
          "output_type": "execute_result",
          "data": {
            "text/plain": [
              "array([[0., 0., 0., 0., 0., 1., 0., 0., 0., 0.],\n",
              "       [1., 0., 0., 0., 0., 0., 0., 0., 0., 0.],\n",
              "       [0., 0., 0., 0., 1., 0., 0., 0., 0., 0.],\n",
              "       [0., 1., 0., 0., 0., 0., 0., 0., 0., 0.],\n",
              "       [0., 0., 0., 0., 0., 0., 0., 0., 0., 1.],\n",
              "       [0., 0., 1., 0., 0., 0., 0., 0., 0., 0.],\n",
              "       [0., 1., 0., 0., 0., 0., 0., 0., 0., 0.],\n",
              "       [0., 0., 0., 1., 0., 0., 0., 0., 0., 0.],\n",
              "       [0., 1., 0., 0., 0., 0., 0., 0., 0., 0.],\n",
              "       [0., 0., 0., 0., 1., 0., 0., 0., 0., 0.]], dtype=float32)"
            ]
          },
          "metadata": {
            "tags": []
          },
          "execution_count": 94
        }
      ]
    },
    {
      "cell_type": "markdown",
      "metadata": {
        "id": "89KkhosjCuVZ",
        "colab_type": "text"
      },
      "source": [
        "### Creating Model"
      ]
    },
    {
      "cell_type": "code",
      "metadata": {
        "id": "mDpXf4YQxXRm",
        "colab_type": "code",
        "outputId": "f08d0d23-3f97-49be-dbb0-b58632e978d6",
        "colab": {
          "base_uri": "https://localhost:8080/",
          "height": 989
        }
      },
      "source": [
        "from keras.layers import Activation\n",
        "model = Sequential()\n",
        " \n",
        "model.add(Convolution2D(16, (3, 3), input_shape=(28,28,1), use_bias=False)) #26\n",
        "model.add(BatchNormalization())\n",
        "#model.add(Dropout(0.1))\n",
        "model.add(Activation('relu'))\n",
        "\n",
        "model.add(Convolution2D(16, (3, 3), use_bias=False)) #24\n",
        "model.add(BatchNormalization())\n",
        "#model.add(Dropout(0.1))\n",
        "model.add(Activation('relu'))\n",
        "\n",
        "model.add(Convolution2D(10, 1, 1, activation='relu', use_bias=False)) #22\n",
        "model.add(MaxPooling2D(pool_size=(2, 2)))#11\n",
        "\n",
        "model.add(Convolution2D(16, (3, 3), use_bias=False))#9\n",
        "model.add(BatchNormalization())\n",
        "#model.add(Dropout(0.1))\n",
        "model.add(Activation('relu'))\n",
        "\n",
        "\n",
        "model.add(Convolution2D(16, (3, 3), use_bias=False))#7\n",
        "model.add(BatchNormalization())\n",
        "#model.add(Dropout(0.1))\n",
        "model.add(Activation('relu'))\n",
        "\n",
        "\n",
        "model.add(Convolution2D(16, (3, 3), use_bias=False))#5\n",
        "model.add(BatchNormalization())\n",
        "#model.add(Dropout(0.1))\n",
        "model.add(Activation('relu'))\n",
        "\n",
        "\n",
        "model.add(Convolution2D(16, (3, 3), use_bias=False))#3\n",
        "model.add(BatchNormalization())\n",
        "#model.add(Dropout(0.1))\n",
        "model.add(Activation('relu'))\n",
        "\n",
        "\n",
        "model.add(Convolution2D(10, 4, 4, use_bias=False))\n",
        "#model.add(BatchNormalization())\n",
        "#model.add(Dropout(0.1))\n",
        "\n",
        "\n",
        "model.add(Flatten())\n",
        "model.add(Activation('softmax'))\n",
        "\n",
        "\n",
        "model.summary()"
      ],
      "execution_count": 109,
      "outputs": [
        {
          "output_type": "stream",
          "text": [
            "/usr/local/lib/python3.6/dist-packages/ipykernel_launcher.py:14: UserWarning: Update your `Conv2D` call to the Keras 2 API: `Conv2D(10, (1, 1), activation=\"relu\", use_bias=False)`\n",
            "  \n"
          ],
          "name": "stderr"
        },
        {
          "output_type": "stream",
          "text": [
            "_________________________________________________________________\n",
            "Layer (type)                 Output Shape              Param #   \n",
            "=================================================================\n",
            "conv2d_33 (Conv2D)           (None, 26, 26, 16)        144       \n",
            "_________________________________________________________________\n",
            "batch_normalization_29 (Batc (None, 26, 26, 16)        64        \n",
            "_________________________________________________________________\n",
            "activation_29 (Activation)   (None, 26, 26, 16)        0         \n",
            "_________________________________________________________________\n",
            "conv2d_34 (Conv2D)           (None, 24, 24, 16)        2304      \n",
            "_________________________________________________________________\n",
            "batch_normalization_30 (Batc (None, 24, 24, 16)        64        \n",
            "_________________________________________________________________\n",
            "activation_30 (Activation)   (None, 24, 24, 16)        0         \n",
            "_________________________________________________________________\n",
            "conv2d_35 (Conv2D)           (None, 24, 24, 10)        160       \n",
            "_________________________________________________________________\n",
            "max_pooling2d_5 (MaxPooling2 (None, 12, 12, 10)        0         \n",
            "_________________________________________________________________\n",
            "conv2d_36 (Conv2D)           (None, 10, 10, 16)        1440      \n",
            "_________________________________________________________________\n",
            "batch_normalization_31 (Batc (None, 10, 10, 16)        64        \n",
            "_________________________________________________________________\n",
            "activation_31 (Activation)   (None, 10, 10, 16)        0         \n",
            "_________________________________________________________________\n",
            "conv2d_37 (Conv2D)           (None, 8, 8, 16)          2304      \n",
            "_________________________________________________________________\n",
            "batch_normalization_32 (Batc (None, 8, 8, 16)          64        \n",
            "_________________________________________________________________\n",
            "activation_32 (Activation)   (None, 8, 8, 16)          0         \n",
            "_________________________________________________________________\n",
            "conv2d_38 (Conv2D)           (None, 6, 6, 16)          2304      \n",
            "_________________________________________________________________\n",
            "batch_normalization_33 (Batc (None, 6, 6, 16)          64        \n",
            "_________________________________________________________________\n",
            "activation_33 (Activation)   (None, 6, 6, 16)          0         \n",
            "_________________________________________________________________\n",
            "conv2d_39 (Conv2D)           (None, 4, 4, 16)          2304      \n",
            "_________________________________________________________________\n",
            "batch_normalization_34 (Batc (None, 4, 4, 16)          64        \n",
            "_________________________________________________________________\n",
            "activation_34 (Activation)   (None, 4, 4, 16)          0         \n",
            "_________________________________________________________________\n",
            "conv2d_40 (Conv2D)           (None, 1, 1, 10)          2560      \n",
            "_________________________________________________________________\n",
            "flatten_5 (Flatten)          (None, 10)                0         \n",
            "_________________________________________________________________\n",
            "activation_35 (Activation)   (None, 10)                0         \n",
            "=================================================================\n",
            "Total params: 13,904\n",
            "Trainable params: 13,712\n",
            "Non-trainable params: 192\n",
            "_________________________________________________________________\n"
          ],
          "name": "stdout"
        },
        {
          "output_type": "stream",
          "text": [
            "/usr/local/lib/python3.6/dist-packages/ipykernel_launcher.py:41: UserWarning: Update your `Conv2D` call to the Keras 2 API: `Conv2D(10, (4, 4), use_bias=False)`\n"
          ],
          "name": "stderr"
        }
      ]
    },
    {
      "cell_type": "markdown",
      "metadata": {
        "id": "CTiVRZqAA4ZH",
        "colab_type": "text"
      },
      "source": [
        "### Defining Learning Rate, Checkpoint, Early stopping"
      ]
    },
    {
      "cell_type": "code",
      "metadata": {
        "id": "L2IicGJ4x3Be",
        "colab_type": "code",
        "colab": {}
      },
      "source": [
        "from keras.optimizers import Adam\n",
        "from keras.callbacks import LearningRateScheduler\n",
        "def scheduler(epoch, lr):\n",
        "  return round(0.003 * 1/(1 + 0.319 * epoch), 10)               \n",
        "                         "
      ],
      "execution_count": 0,
      "outputs": []
    },
    {
      "cell_type": "code",
      "metadata": {
        "id": "KwaXkYizXaEo",
        "colab_type": "code",
        "colab": {}
      },
      "source": [
        "# checkpoint\n",
        "filepath=\"/content/drive/My Drive/NormalizationAndRegularizationOnMNIST/weights-{epoch:02d}-{val_acc:.2f}.hdf5\"\n",
        "checkpoint = ModelCheckpoint(filepath, monitor='val_acc', verbose=1, save_best_only=True, mode='max')"
      ],
      "execution_count": 0,
      "outputs": []
    },
    {
      "cell_type": "code",
      "metadata": {
        "id": "8I7UfkokXqgR",
        "colab_type": "code",
        "colab": {}
      },
      "source": [
        "# define early stopping callback\n",
        "earlystop = EarlyStopping(monitor='val_acc', min_delta=0.0001, patience=5, \\\n",
        "                          verbose=1, mode='auto')"
      ],
      "execution_count": 0,
      "outputs": []
    },
    {
      "cell_type": "markdown",
      "metadata": {
        "id": "stLnMtPUA_1n",
        "colab_type": "text"
      },
      "source": [
        "### Defining Custom Loss function"
      ]
    },
    {
      "cell_type": "code",
      "metadata": {
        "id": "lmMJ9zvfBEzz",
        "colab_type": "code",
        "colab": {}
      },
      "source": [
        "def loss_with_reg(model, batch_size, _lambda = 0.001):\n",
        "  reg_loss_sqr = 0\n",
        "  for layer in model.layers:\n",
        "    if(len(layer.get_weights())>0):\n",
        "      reg_loss_sqr += np.sum(layer.get_weights()[0]**2)\n",
        "    reg_loss_sqr = reg_loss_sqr * (_lambda/2*batch_size)\n",
        "    \n",
        "  def loss(y_true, y_pred):\n",
        "    return K.categorical_crossentropy(y_true, y_pred) + reg_loss_sqr\n",
        "  return loss"
      ],
      "execution_count": 0,
      "outputs": []
    },
    {
      "cell_type": "code",
      "metadata": {
        "id": "gKDgjQ8NXvkQ",
        "colab_type": "code",
        "outputId": "b2bafa20-d1b3-4adc-e894-e6dbe0dc966d",
        "colab": {
          "base_uri": "https://localhost:8080/",
          "height": 564
        }
      },
      "source": [
        "model.compile(loss=loss_with_reg(model=model, batch_size=128), optimizer=Adam(lr=0.003), metrics=['accuracy'])\n",
        "callbacks_list = [earlystop, checkpoint, LearningRateScheduler(scheduler, verbose=1)]\n",
        "#model.fit(trainX, trainY, batch_size=128, epochs=20, verbose=1, validation_data=(testX, testY), callbacks=[LearningRateScheduler(scheduler, verbose=1)])\n",
        "model.fit_generator(training_set, steps_per_epoch=60000//128,  validation_data=(testX, testY), validation_steps=10000//128, epochs=5, callbacks=callbacks_list)\n",
        "                        \n",
        "          "
      ],
      "execution_count": 115,
      "outputs": [
        {
          "output_type": "stream",
          "text": [
            "Epoch 1/5\n",
            "\n",
            "Epoch 00001: LearningRateScheduler setting learning rate to 0.003.\n",
            "468/468 [==============================] - 10s 22ms/step - loss: 0.0494 - acc: 0.9882 - val_loss: 0.8266 - val_acc: 0.7342\n",
            "\n",
            "Epoch 00001: val_acc improved from 0.62135 to 0.73420, saving model to /content/drive/My Drive/NormalizationAndRegularizationOnMNIST/weights-01-0.73.hdf5\n",
            "Epoch 2/5\n",
            "\n",
            "Epoch 00002: LearningRateScheduler setting learning rate to 0.0022744503.\n",
            "468/468 [==============================] - 6s 13ms/step - loss: 0.0362 - acc: 0.9926 - val_loss: 2.4322 - val_acc: 0.5118\n",
            "\n",
            "Epoch 00002: val_acc did not improve from 0.73420\n",
            "Epoch 3/5\n",
            "\n",
            "Epoch 00003: LearningRateScheduler setting learning rate to 0.0018315018.\n",
            "468/468 [==============================] - 6s 13ms/step - loss: 0.0306 - acc: 0.9943 - val_loss: 1.0328 - val_acc: 0.6594\n",
            "\n",
            "Epoch 00003: val_acc did not improve from 0.73420\n",
            "Epoch 4/5\n",
            "\n",
            "Epoch 00004: LearningRateScheduler setting learning rate to 0.0015329586.\n",
            "468/468 [==============================] - 6s 13ms/step - loss: 0.0265 - acc: 0.9957 - val_loss: 1.3564 - val_acc: 0.5251\n",
            "\n",
            "Epoch 00004: val_acc did not improve from 0.73420\n",
            "Epoch 5/5\n",
            "\n",
            "Epoch 00005: LearningRateScheduler setting learning rate to 0.0013181019.\n",
            "468/468 [==============================] - 6s 13ms/step - loss: 0.0231 - acc: 0.9970 - val_loss: 2.3493 - val_acc: 0.4283\n",
            "\n",
            "Epoch 00005: val_acc did not improve from 0.73420\n"
          ],
          "name": "stdout"
        },
        {
          "output_type": "execute_result",
          "data": {
            "text/plain": [
              "<keras.callbacks.History at 0x7fb4a7bcef60>"
            ]
          },
          "metadata": {
            "tags": []
          },
          "execution_count": 115
        }
      ]
    },
    {
      "cell_type": "code",
      "metadata": {
        "colab_type": "code",
        "id": "HhVimEH19hMB",
        "colab": {}
      },
      "source": [
        ""
      ],
      "execution_count": 0,
      "outputs": []
    },
    {
      "cell_type": "code",
      "metadata": {
        "id": "m2qDl21ozBnW",
        "colab_type": "code",
        "outputId": "6493377d-258c-4d90-af85-72eb74950113",
        "colab": {
          "base_uri": "https://localhost:8080/",
          "height": 214
        }
      },
      "source": [
        "te_ex, te_pixels = testX.shape[0]\n",
        "sqrt_dim = int(np.sqrt(te_pixels))\n",
        "test_data_normalized = (testX * 1./255).reshape((te_ex, sqrt_dim, sqrt_dim, channel))\n",
        "predictions = model.predict(test_data_normalized)"
      ],
      "execution_count": 0,
      "outputs": [
        {
          "output_type": "error",
          "ename": "TypeError",
          "evalue": "ignored",
          "traceback": [
            "\u001b[0;31m---------------------------------------------------------------------------\u001b[0m",
            "\u001b[0;31mTypeError\u001b[0m                                 Traceback (most recent call last)",
            "\u001b[0;32m<ipython-input-57-852429b68d86>\u001b[0m in \u001b[0;36m<module>\u001b[0;34m()\u001b[0m\n\u001b[0;32m----> 1\u001b[0;31m \u001b[0mte_ex\u001b[0m\u001b[0;34m,\u001b[0m \u001b[0mte_pixels\u001b[0m \u001b[0;34m=\u001b[0m \u001b[0mtestX\u001b[0m\u001b[0;34m.\u001b[0m\u001b[0mshape\u001b[0m\u001b[0;34m[\u001b[0m\u001b[0;36m0\u001b[0m\u001b[0;34m]\u001b[0m\u001b[0;34m\u001b[0m\u001b[0;34m\u001b[0m\u001b[0m\n\u001b[0m\u001b[1;32m      2\u001b[0m \u001b[0msqrt_dim\u001b[0m \u001b[0;34m=\u001b[0m \u001b[0mint\u001b[0m\u001b[0;34m(\u001b[0m\u001b[0mnp\u001b[0m\u001b[0;34m.\u001b[0m\u001b[0msqrt\u001b[0m\u001b[0;34m(\u001b[0m\u001b[0mte_pixels\u001b[0m\u001b[0;34m)\u001b[0m\u001b[0;34m)\u001b[0m\u001b[0;34m\u001b[0m\u001b[0;34m\u001b[0m\u001b[0m\n\u001b[1;32m      3\u001b[0m \u001b[0mtest_data_normalized\u001b[0m \u001b[0;34m=\u001b[0m \u001b[0;34m(\u001b[0m\u001b[0mtestX\u001b[0m \u001b[0;34m*\u001b[0m \u001b[0;36m1.\u001b[0m\u001b[0;34m/\u001b[0m\u001b[0;36m255\u001b[0m\u001b[0;34m)\u001b[0m\u001b[0;34m.\u001b[0m\u001b[0mreshape\u001b[0m\u001b[0;34m(\u001b[0m\u001b[0;34m(\u001b[0m\u001b[0mte_ex\u001b[0m\u001b[0;34m,\u001b[0m \u001b[0msqrt_dim\u001b[0m\u001b[0;34m,\u001b[0m \u001b[0msqrt_dim\u001b[0m\u001b[0;34m,\u001b[0m \u001b[0mchannel\u001b[0m\u001b[0;34m)\u001b[0m\u001b[0;34m)\u001b[0m\u001b[0;34m\u001b[0m\u001b[0;34m\u001b[0m\u001b[0m\n\u001b[1;32m      4\u001b[0m \u001b[0mpredictions\u001b[0m \u001b[0;34m=\u001b[0m \u001b[0mmodel\u001b[0m\u001b[0;34m.\u001b[0m\u001b[0mpredict\u001b[0m\u001b[0;34m(\u001b[0m\u001b[0mtest_data_normalized\u001b[0m\u001b[0;34m)\u001b[0m\u001b[0;34m\u001b[0m\u001b[0;34m\u001b[0m\u001b[0m\n",
            "\u001b[0;31mTypeError\u001b[0m: 'int' object is not iterable"
          ]
        }
      ]
    },
    {
      "cell_type": "code",
      "metadata": {
        "id": "nHFWKzVXJOrk",
        "colab_type": "code",
        "colab": {}
      },
      "source": [
        ""
      ],
      "execution_count": 0,
      "outputs": []
    },
    {
      "cell_type": "markdown",
      "metadata": {
        "id": "cGgFw2GEIwik",
        "colab_type": "text"
      },
      "source": [
        "### Prediction"
      ]
    },
    {
      "cell_type": "code",
      "metadata": {
        "id": "IA05hwHjLJ4_",
        "colab_type": "code",
        "colab": {}
      },
      "source": [
        "# Predict the values from the validation dataset\n",
        "Y_pred = model.predict(testX)\n",
        "# Convert predictions classes to one hot vectors \n",
        "Y_pred_classes = np.argmax(Y_pred, axis = 1) \n",
        "# Convert validation observations to one hot vectors\n",
        "Y_true = np.argmax(testY, axis = 1) \n",
        "# compute the confusion matrix\n",
        "#confusion_mtx = confusion_matrix(Y_true, Y_pred_classes) \n",
        "# plot the confusion matrix\n",
        "#plot_confusion_matrix(confusion_mtx, classes = range(10))"
      ],
      "execution_count": 0,
      "outputs": []
    },
    {
      "cell_type": "code",
      "metadata": {
        "id": "EaXw_n3TIzoX",
        "colab_type": "code",
        "colab": {
          "base_uri": "https://localhost:8080/",
          "height": 805
        },
        "outputId": "ebf6337d-d043-4507-fcf6-e63ecbc58b04"
      },
      "source": [
        "# Errors are difference between predicted labels and true labels\n",
        "errors = (Y_pred_classes - Y_true != 0)\n",
        "\n",
        "Y_pred_classes_errors = Y_pred_classes[errors]\n",
        "Y_pred_errors = Y_pred[errors]\n",
        "Y_true_errors = Y_true[errors]\n",
        "X_val_errors = testX[errors]\n",
        "\n",
        "def display_errors(errors_index,img_errors,pred_errors, obs_errors):\n",
        "    \"\"\" This function shows 25 images with their predicted and real labels\"\"\"\n",
        "    n = 0\n",
        "    nrows = 5\n",
        "    ncols = 5\n",
        "    #fig, ax = plt.subplots(nrows,ncols,sharex=True,sharey=True)\n",
        "    fig, ax = plt.subplots(nrows, ncols, figsize=(10, 14))\n",
        "    for row in range(nrows):\n",
        "        for col in range(ncols):\n",
        "            error = errors_index[n]\n",
        "            ax[row,col].imshow((img_errors[error]).reshape((28,28)))\n",
        "            ax[row,col].set_title(\"Predicted:{}\\n Label :{}\".format(pred_errors[error],obs_errors[error]))\n",
        "            n += 1\n",
        "\n",
        "# Probabilities of the wrong predicted numbers\n",
        "Y_pred_errors_prob = np.max(Y_pred_errors,axis = 1)\n",
        "\n",
        "# Predicted probabilities of the true values in the error set\n",
        "true_prob_errors = np.diagonal(np.take(Y_pred_errors, Y_true_errors, axis=1))\n",
        "\n",
        "# Difference between the probability of the predicted label and the true label\n",
        "delta_pred_true_errors = Y_pred_errors_prob - true_prob_errors\n",
        "\n",
        "# Sorted list of the delta prob errors\n",
        "sorted_dela_errors = np.argsort(delta_pred_true_errors)\n",
        "\n",
        "# Top 25 errors \n",
        "most_important_errors = sorted_dela_errors[-25:]\n",
        "\n",
        "# Show the top 25 errors\n",
        "display_errors(most_important_errors, X_val_errors, Y_pred_classes_errors, Y_true_errors)"
      ],
      "execution_count": 132,
      "outputs": [
        {
          "output_type": "display_data",
          "data": {
            "image/png": "[encoded data removed]",
            "text/plain": [
              "<Figure size 720x1008 with 25 Axes>"
            ]
          },
          "metadata": {
            "tags": []
          }
        }
      ]
    },
    {
      "cell_type": "code",
      "metadata": {
        "id": "FXQ9K8HMLAG6",
        "colab_type": "code",
        "colab": {}
      },
      "source": [
        ""
      ],
      "execution_count": 0,
      "outputs": []
    }
  ]
}