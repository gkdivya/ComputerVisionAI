{
  "nbformat": 4,
  "nbformat_minor": 0,
  "metadata": {
    "colab": {
      "name": "NormalizationAndRegularizationOnMNIST.ipynb",
      "version": "0.3.2",
      "provenance": [],
      "collapsed_sections": [],
      "toc_visible": true,
      "include_colab_link": true
    },
    "kernelspec": {
      "name": "python3",
      "display_name": "Python 3"
    },
    "accelerator": "GPU"
  },
  "cells": [
    {
      "cell_type": "markdown",
      "metadata": {
        "id": "view-in-github",
        "colab_type": "text"
      },
      "source": [
        "<a href=\"https://colab.research.google.com/github/gkdivya/EVA/blob/master/Batch%20Normalization%20%26%20Regularization/NormalizationAndRegularizationOnMNIST.ipynb\" target=\"_parent\"><img src=\"https://colab.research.google.com/assets/colab-badge.svg\" alt=\"Open In Colab\"/></a>"
      ]
    },
    {
      "cell_type": "markdown",
      "metadata": {
        "colab_type": "text",
        "id": "sqk2iHkyD_fD"
      },
      "source": [
        "# Normalization and Regularization on MNIST \n",
        "\n",
        "#### On MNIST digits classification, let us analyze the impact of performing \n",
        "\n",
        "*   Image normalization\n",
        "*   L2 regularization (With Custom loss function)\n",
        "*   Activation (ReLU) after performing Batch Normalization\n",
        "\n",
        "\n",
        "\n",
        "\n",
        "\n"
      ]
    },
    {
      "cell_type": "markdown",
      "metadata": {
        "id": "6h_9V-jEInZK",
        "colab_type": "text"
      },
      "source": [
        "### Importing Libraries"
      ]
    },
    {
      "cell_type": "code",
      "metadata": {
        "id": "0SJyVpgSxHt4",
        "colab_type": "code",
        "colab": {}
      },
      "source": [
        "import os\n",
        "import numpy as np\n",
        "\n",
        "import keras.backend as K\n",
        "from keras import models\n",
        "from keras.models import Sequential\n",
        "from keras.layers import Dense, Dropout, Activation, Flatten, Add, BatchNormalization\n",
        "from keras.layers import Convolution2D, MaxPooling2D\n",
        "from keras.preprocessing.image import ImageDataGenerator\n",
        "from keras.callbacks import ModelCheckpoint, EarlyStopping\n",
        "from keras.utils import np_utils\n",
        "\n",
        "from keras.datasets import mnist"
      ],
      "execution_count": 0,
      "outputs": []
    },
    {
      "cell_type": "markdown",
      "metadata": {
        "id": "JxYqx-UCCimY",
        "colab_type": "text"
      },
      "source": [
        "### Preparing Dataset "
      ]
    },
    {
      "cell_type": "code",
      "metadata": {
        "id": "YlEUplvoxKAT",
        "colab_type": "code",
        "colab": {
          "base_uri": "https://localhost:8080/",
          "height": 34
        },
        "outputId": "623dbb95-0de4-4bd7-e04e-3d018f674b76"
      },
      "source": [
        "#Loading data from Keras datasets\n",
        "(trainX, trainY), (testX, testY) = mnist.load_data()\n",
        "print (trainX.shape)\n"
      ],
      "execution_count": 159,
      "outputs": [
        {
          "output_type": "stream",
          "text": [
            "(60000, 28, 28)\n"
          ],
          "name": "stdout"
        }
      ]
    },
    {
      "cell_type": "code",
      "metadata": {
        "id": "I6Y9Va-xxMXG",
        "colab_type": "code",
        "outputId": "f6a1be19-f8f1-473c-ad97-173ac559925b",
        "colab": {
          "base_uri": "https://localhost:8080/",
          "height": 286
        }
      },
      "source": [
        "#Ploting a single image from dataset\n",
        "from matplotlib import pyplot as plt\n",
        "%matplotlib inline\n",
        "plt.imshow(trainX[1])"
      ],
      "execution_count": 160,
      "outputs": [
        {
          "output_type": "execute_result",
          "data": {
            "text/plain": [
              "<matplotlib.image.AxesImage at 0x7fb4a2d42f98>"
            ]
          },
          "metadata": {
            "tags": []
          },
          "execution_count": 160
        },
        {
          "output_type": "display_data",
          "data": {
            "image/png": "[encoded data removed]",
            "text/plain": [
              "<Figure size 432x288 with 1 Axes>"
            ]
          },
          "metadata": {
            "tags": []
          }
        }
      ]
    },
    {
      "cell_type": "code",
      "metadata": {
        "id": "lxDZxPhhxOgO",
        "colab_type": "code",
        "colab": {}
      },
      "source": [
        "#Reshaping to store the Channel information. Since its a grayscale image, 1 is mentioned in the end, if its a RGB image, 3 would have been mentioned\n",
        "trainX = trainX.reshape(trainX.shape[0], 28, 28,1)\n",
        "testX = testX.reshape(testX.shape[0], 28, 28,1)"
      ],
      "execution_count": 0,
      "outputs": []
    },
    {
      "cell_type": "code",
      "metadata": {
        "id": "3HzMqbTnxQQW",
        "colab_type": "code",
        "colab": {}
      },
      "source": [
        "#Equalization of data, (0-1) converges faster than (0-255)\n",
        "trainX = trainX.astype('float32')\n",
        "testX = testX.astype('float32')\n",
        "trainX /= 255\n",
        "testX /= 255"
      ],
      "execution_count": 0,
      "outputs": []
    },
    {
      "cell_type": "code",
      "metadata": {
        "id": "7LdYiW6ixR9e",
        "colab_type": "code",
        "colab": {}
      },
      "source": [
        "# print first ten (integer-valued) training labels\n",
        "print('Integer-valued labels:')\n",
        "print(trainY[:10])\n",
        "\n",
        "# Label Encoding: Converting to one hot encoding  (ex : 5 -> [0,0,0,0,0,1,0,0,0,0]).\n",
        "trainY = np_utils.to_categorical(trainY, 10)\n",
        "testY = np_utils.to_categorical(testY, 10\n",
        "                                \n",
        "# print first ten (one-hot) training labels\n",
        "print('One-hot labels:')\n",
        "print(trainY[:10])"
      ],
      "execution_count": 0,
      "outputs": []
    },
    {
      "cell_type": "code",
      "metadata": {
        "id": "bMHUrZirbL3g",
        "colab_type": "code",
        "colab": {}
      },
      "source": [
        "# applying transformation to image\n",
        "train_gen = ImageDataGenerator(featurewise_center=True, featurewise_std_normalization=True)\n",
        "test_gen = ImageDataGenerator(featurewise_center=True, featurewise_std_normalization=True)\n",
        "# fit the data augmentation\n",
        "train_gen.fit(trainX)\n",
        "test_gen.fit(testX)\n"
      ],
      "execution_count": 0,
      "outputs": []
    },
    {
      "cell_type": "code",
      "metadata": {
        "id": "sq1OX1MTSFuW",
        "colab_type": "code",
        "colab": {}
      },
      "source": [
        "training_generator= train_gen.flow(trainX, trainY, batch_size=128)\n",
        "testing_generator= test_gen.flow(testX, testY, batch_size=128, shuffle=False)"
      ],
      "execution_count": 0,
      "outputs": []
    },
    {
      "cell_type": "code",
      "metadata": {
        "id": "K_sDRSXHFN1M",
        "colab_type": "code",
        "outputId": "25e5bc72-c919-43da-8351-d50e151122b6",
        "colab": {
          "base_uri": "https://localhost:8080/",
          "height": 595
        }
      },
      "source": [
        "# Quick look at the some augmented images\n",
        "plt.gcf().set_size_inches(10, 10)\n",
        "for x_batch, y_batch in training_set:\n",
        "    for i in range(0, 25):\n",
        "        plt.subplot(5, 5, i+1)\n",
        "        plt.imshow(x_batch[i].reshape(28, 28), cmap=plt.get_cmap('gray'))\n",
        "    break"
      ],
      "execution_count": 166,
      "outputs": [
        {
          "output_type": "display_data",
          "data": {
            "image/png": "[encoded data removed]",
            "text/plain": [
              "<Figure size 720x720 with 25 Axes>"
            ]
          },
          "metadata": {
            "tags": []
          }
        }
      ]
    },
    {
      "cell_type": "markdown",
      "metadata": {
        "id": "89KkhosjCuVZ",
        "colab_type": "text"
      },
      "source": [
        "### Creating Model"
      ]
    },
    {
      "cell_type": "code",
      "metadata": {
        "id": "mDpXf4YQxXRm",
        "colab_type": "code",
        "outputId": "02d26e98-f98a-49f8-b29c-312af99d6c5b",
        "colab": {
          "base_uri": "https://localhost:8080/",
          "height": 989
        }
      },
      "source": [
        "from keras.layers import Activation\n",
        "\n",
        "def createModel:\n",
        "model = Sequential()\n",
        " \n",
        "model.add(Convolution2D(16, (3, 3), input_shape=(28,28,1), use_bias=False)) #26\n",
        "model.add(BatchNormalization())\n",
        "#model.add(Dropout(0.1))\n",
        "model.add(Activation('relu'))\n",
        "\n",
        "model.add(Convolution2D(16, (3, 3), use_bias=False)) #24\n",
        "model.add(BatchNormalization())\n",
        "#model.add(Dropout(0.1))\n",
        "model.add(Activation('relu'))\n",
        "\n",
        "model.add(Convolution2D(10, 1, 1, activation='relu', use_bias=False)) #24\n",
        "model.add(MaxPooling2D(pool_size=(2, 2)))#12\n",
        "\n",
        "model.add(Convolution2D(16, (3, 3), use_bias=False))#10\n",
        "model.add(BatchNormalization())\n",
        "#model.add(Dropout(0.1))\n",
        "model.add(Activation('relu'))\n",
        "\n",
        "\n",
        "model.add(Convolution2D(16, (3, 3), use_bias=False))#8\n",
        "model.add(BatchNormalization())\n",
        "#model.add(Dropout(0.1))\n",
        "model.add(Activation('relu'))\n",
        "\n",
        "\n",
        "model.add(Convolution2D(16, (3, 3), use_bias=False))#6\n",
        "model.add(BatchNormalization())\n",
        "#model.add(Dropout(0.1))\n",
        "model.add(Activation('relu'))\n",
        "\n",
        "\n",
        "model.add(Convolution2D(16, (3, 3), use_bias=False))#4\n",
        "model.add(BatchNormalization())\n",
        "#model.add(Dropout(0.1))\n",
        "model.add(Activation('relu'))\n",
        "\n",
        "\n",
        "model.add(Convolution2D(10, 4, 4, use_bias=False))\n",
        "model.add(Flatten())\n",
        "model.add(Activation('softmax'))\n",
        "\n",
        "\n",
        "model.summary()"
      ],
      "execution_count": 167,
      "outputs": [
        {
          "output_type": "stream",
          "text": [
            "/usr/local/lib/python3.6/dist-packages/ipykernel_launcher.py:14: UserWarning: Update your `Conv2D` call to the Keras 2 API: `Conv2D(10, (1, 1), activation=\"relu\", use_bias=False)`\n",
            "  \n"
          ],
          "name": "stderr"
        },
        {
          "output_type": "stream",
          "text": [
            "_________________________________________________________________\n",
            "Layer (type)                 Output Shape              Param #   \n",
            "=================================================================\n",
            "conv2d_49 (Conv2D)           (None, 26, 26, 16)        144       \n",
            "_________________________________________________________________\n",
            "batch_normalization_41 (Batc (None, 26, 26, 16)        64        \n",
            "_________________________________________________________________\n",
            "activation_43 (Activation)   (None, 26, 26, 16)        0         \n",
            "_________________________________________________________________\n",
            "conv2d_50 (Conv2D)           (None, 24, 24, 16)        2304      \n",
            "_________________________________________________________________\n",
            "batch_normalization_42 (Batc (None, 24, 24, 16)        64        \n",
            "_________________________________________________________________\n",
            "activation_44 (Activation)   (None, 24, 24, 16)        0         \n",
            "_________________________________________________________________\n",
            "conv2d_51 (Conv2D)           (None, 24, 24, 10)        160       \n",
            "_________________________________________________________________\n",
            "max_pooling2d_7 (MaxPooling2 (None, 12, 12, 10)        0         \n",
            "_________________________________________________________________\n",
            "conv2d_52 (Conv2D)           (None, 10, 10, 16)        1440      \n",
            "_________________________________________________________________\n",
            "batch_normalization_43 (Batc (None, 10, 10, 16)        64        \n",
            "_________________________________________________________________\n",
            "activation_45 (Activation)   (None, 10, 10, 16)        0         \n",
            "_________________________________________________________________\n",
            "conv2d_53 (Conv2D)           (None, 8, 8, 16)          2304      \n",
            "_________________________________________________________________\n",
            "batch_normalization_44 (Batc (None, 8, 8, 16)          64        \n",
            "_________________________________________________________________\n",
            "activation_46 (Activation)   (None, 8, 8, 16)          0         \n",
            "_________________________________________________________________\n",
            "conv2d_54 (Conv2D)           (None, 6, 6, 16)          2304      \n",
            "_________________________________________________________________\n",
            "batch_normalization_45 (Batc (None, 6, 6, 16)          64        \n",
            "_________________________________________________________________\n",
            "activation_47 (Activation)   (None, 6, 6, 16)          0         \n",
            "_________________________________________________________________\n",
            "conv2d_55 (Conv2D)           (None, 4, 4, 16)          2304      \n",
            "_________________________________________________________________\n",
            "batch_normalization_46 (Batc (None, 4, 4, 16)          64        \n",
            "_________________________________________________________________\n",
            "activation_48 (Activation)   (None, 4, 4, 16)          0         \n",
            "_________________________________________________________________\n",
            "conv2d_56 (Conv2D)           (None, 1, 1, 10)          2560      \n",
            "_________________________________________________________________\n",
            "flatten_7 (Flatten)          (None, 10)                0         \n",
            "_________________________________________________________________\n",
            "activation_49 (Activation)   (None, 10)                0         \n",
            "=================================================================\n",
            "Total params: 13,904\n",
            "Trainable params: 13,712\n",
            "Non-trainable params: 192\n",
            "_________________________________________________________________\n"
          ],
          "name": "stdout"
        },
        {
          "output_type": "stream",
          "text": [
            "/usr/local/lib/python3.6/dist-packages/ipykernel_launcher.py:41: UserWarning: Update your `Conv2D` call to the Keras 2 API: `Conv2D(10, (4, 4), use_bias=False)`\n"
          ],
          "name": "stderr"
        }
      ]
    },
    {
      "cell_type": "markdown",
      "metadata": {
        "id": "CTiVRZqAA4ZH",
        "colab_type": "text"
      },
      "source": [
        "### Defining Learning Rate, Checkpoint, Early stopping"
      ]
    },
    {
      "cell_type": "code",
      "metadata": {
        "id": "L2IicGJ4x3Be",
        "colab_type": "code",
        "colab": {}
      },
      "source": [
        "from keras.optimizers import Adam\n",
        "from keras.callbacks import LearningRateScheduler\n",
        "def scheduler(epoch, lr):\n",
        "  return round(0.003 * 1/(1 + 0.319 * epoch), 10)               \n",
        "                         "
      ],
      "execution_count": 0,
      "outputs": []
    },
    {
      "cell_type": "code",
      "metadata": {
        "id": "XBp3HWUvWh_-",
        "colab_type": "code",
        "outputId": "d8909332-33d7-4acc-8219-61166e507d96",
        "colab": {
          "base_uri": "https://localhost:8080/",
          "height": 54
        }
      },
      "source": [
        "from google.colab import drive\n",
        "drive.mount('/content/drive')"
      ],
      "execution_count": 169,
      "outputs": [
        {
          "output_type": "stream",
          "text": [
            "Drive already mounted at /content/drive; to attempt to forcibly remount, call drive.mount(\"/content/drive\", force_remount=True).\n"
          ],
          "name": "stdout"
        }
      ]
    },
    {
      "cell_type": "code",
      "metadata": {
        "id": "KwaXkYizXaEo",
        "colab_type": "code",
        "colab": {}
      },
      "source": [
        "# checkpoint\n",
        "filepath=\"/content/drive/My Drive/NormalizationAndRegularizationOnMNIST/weights-{epoch:02d}-{val_acc:.2f}.hdf5\"\n",
        "checkpoint = ModelCheckpoint(filepath, monitor='val_acc', verbose=1, save_best_only=True, mode='max')"
      ],
      "execution_count": 0,
      "outputs": []
    },
    {
      "cell_type": "code",
      "metadata": {
        "id": "8I7UfkokXqgR",
        "colab_type": "code",
        "colab": {}
      },
      "source": [
        "# define early stopping callback\n",
        "earlystop = EarlyStopping(monitor='val_acc', min_delta=0.0001, patience=5, \\\n",
        "                          verbose=1, mode='auto')"
      ],
      "execution_count": 0,
      "outputs": []
    },
    {
      "cell_type": "markdown",
      "metadata": {
        "id": "stLnMtPUA_1n",
        "colab_type": "text"
      },
      "source": [
        "### Defining Custom Loss function"
      ]
    },
    {
      "cell_type": "code",
      "metadata": {
        "id": "lmMJ9zvfBEzz",
        "colab_type": "code",
        "colab": {}
      },
      "source": [
        "def loss_with_reg(model, batch_size, _lambda = 0.001):\n",
        "  reg_loss_sqr = 0\n",
        "  for layer in model.layers:\n",
        "    if(len(layer.get_weights())>0):\n",
        "      reg_loss_sqr += np.sum(layer.get_weights()[0]**2)\n",
        "    reg_loss_sqr = reg_loss_sqr * (_lambda/2*batch_size)\n",
        "    \n",
        "  def loss(y_true, y_pred):\n",
        "    return K.categorical_crossentropy(y_true, y_pred) + reg_loss_sqr\n",
        "  return loss"
      ],
      "execution_count": 0,
      "outputs": []
    },
    {
      "cell_type": "code",
      "metadata": {
        "id": "1iUcBUmkW4hH",
        "colab_type": "code",
        "colab": {
          "base_uri": "https://localhost:8080/",
          "height": 581
        },
        "outputId": "cca6868f-e191-4566-94eb-3c8153431396"
      },
      "source": [
        "model.compile(loss=loss_with_reg(model=model, batch_size=128), optimizer='Adam', metrics=['accuracy'])\n",
        "callbacks_list = [earlystop, checkpoint, LearningRateScheduler(scheduler, verbose=1)]\n",
        "\n",
        "model.fit(trainX, trainY, batch_size = 128, epochs = 5, validation_data = (testX, testY), verbose = 2, callbacks=callbacks_list)"
      ],
      "execution_count": 174,
      "outputs": [
        {
          "output_type": "stream",
          "text": [
            "Train on 60000 samples, validate on 10000 samples\n",
            "Epoch 1/5\n",
            "\n",
            "Epoch 00001: LearningRateScheduler setting learning rate to 0.003.\n",
            " - 10s - loss: 0.1700 - acc: 0.9506 - val_loss: 0.0776 - val_acc: 0.9771\n",
            "\n",
            "Epoch 00001: val_acc improved from -inf to 0.97710, saving model to /content/drive/My Drive/NormalizationAndRegularizationOnMNIST/weights-01-0.98.hdf5\n",
            "Epoch 2/5\n",
            "\n",
            "Epoch 00002: LearningRateScheduler setting learning rate to 0.0022744503.\n",
            " - 5s - loss: 0.0471 - acc: 0.9862 - val_loss: 0.0601 - val_acc: 0.9816\n",
            "\n",
            "Epoch 00002: val_acc improved from 0.97710 to 0.98160, saving model to /content/drive/My Drive/NormalizationAndRegularizationOnMNIST/weights-02-0.98.hdf5\n",
            "Epoch 3/5\n",
            "\n",
            "Epoch 00003: LearningRateScheduler setting learning rate to 0.0018315018.\n",
            " - 5s - loss: 0.0362 - acc: 0.9898 - val_loss: 0.0358 - val_acc: 0.9890\n",
            "\n",
            "Epoch 00003: val_acc improved from 0.98160 to 0.98900, saving model to /content/drive/My Drive/NormalizationAndRegularizationOnMNIST/weights-03-0.99.hdf5\n",
            "Epoch 4/5\n",
            "\n",
            "Epoch 00004: LearningRateScheduler setting learning rate to 0.0015329586.\n",
            " - 5s - loss: 0.0284 - acc: 0.9919 - val_loss: 0.0400 - val_acc: 0.9887\n",
            "\n",
            "Epoch 00004: val_acc did not improve from 0.98900\n",
            "Epoch 5/5\n",
            "\n",
            "Epoch 00005: LearningRateScheduler setting learning rate to 0.0013181019.\n",
            " - 5s - loss: 0.0239 - acc: 0.9934 - val_loss: 0.0372 - val_acc: 0.9890\n",
            "\n",
            "Epoch 00005: val_acc did not improve from 0.98900\n"
          ],
          "name": "stdout"
        },
        {
          "output_type": "execute_result",
          "data": {
            "text/plain": [
              "<keras.callbacks.History at 0x7fb4acfb0ac8>"
            ]
          },
          "metadata": {
            "tags": []
          },
          "execution_count": 174
        }
      ]
    },
    {
      "cell_type": "code",
      "metadata": {
        "id": "dV9SJ8k-nbzZ",
        "colab_type": "code",
        "colab": {
          "base_uri": "https://localhost:8080/",
          "height": 51
        },
        "outputId": "4809519c-5016-47d0-b918-e7effa9b0ed9"
      },
      "source": [
        "print(len(training_generator))\n",
        "print(len(testing_generator))"
      ],
      "execution_count": 188,
      "outputs": [
        {
          "output_type": "stream",
          "text": [
            "469\n",
            "79\n"
          ],
          "name": "stdout"
        }
      ]
    },
    {
      "cell_type": "code",
      "metadata": {
        "id": "gKDgjQ8NXvkQ",
        "colab_type": "code",
        "outputId": "819339a6-eee8-4a49-cf6b-e9f285e4bcf9",
        "colab": {
          "base_uri": "https://localhost:8080/",
          "height": 887
        }
      },
      "source": [
        "model.compile(loss=loss_with_reg(model=model, batch_size=128), optimizer='Adam', metrics=['accuracy'])\n",
        "callbacks_list = [earlystop, checkpoint, LearningRateScheduler(scheduler, verbose=1)]\n",
        "\n",
        "\n",
        "model.fit_generator(training_generator, \n",
        "                    steps_per_epoch = len(training_generator),\n",
        "                    epochs=30,\n",
        "                    validation_data = testing_generator,\n",
        "                    validation_steps = len(testing_generator),\n",
        "                    callbacks = callbacks_list)"
      ],
      "execution_count": 185,
      "outputs": [
        {
          "output_type": "stream",
          "text": [
            "Epoch 1/30\n",
            "\n",
            "Epoch 00001: LearningRateScheduler setting learning rate to 0.003.\n",
            "469/469 [==============================] - 13s 28ms/step - loss: 0.9501 - acc: 0.9997 - val_loss: 1.0070 - val_acc: 0.9919\n",
            "\n",
            "Epoch 00001: val_acc did not improve from 0.99383\n",
            "Epoch 2/30\n",
            "\n",
            "Epoch 00002: LearningRateScheduler setting learning rate to 0.0022744503.\n",
            "469/469 [==============================] - 7s 14ms/step - loss: 0.9506 - acc: 0.9997 - val_loss: 1.0067 - val_acc: 0.9930\n",
            "\n",
            "Epoch 00002: val_acc did not improve from 0.99383\n",
            "Epoch 3/30\n",
            "\n",
            "Epoch 00003: LearningRateScheduler setting learning rate to 0.0018315018.\n",
            "469/469 [==============================] - 6s 14ms/step - loss: 0.9498 - acc: 0.9999 - val_loss: 0.9999 - val_acc: 0.9941\n",
            "\n",
            "Epoch 00003: val_acc improved from 0.99383 to 0.99410, saving model to /content/drive/My Drive/NormalizationAndRegularizationOnMNIST/weights-03-0.99.hdf5\n",
            "Epoch 4/30\n",
            "\n",
            "Epoch 00004: LearningRateScheduler setting learning rate to 0.0015329586.\n",
            "469/469 [==============================] - 6s 14ms/step - loss: 0.9497 - acc: 1.0000 - val_loss: 1.0006 - val_acc: 0.9938\n",
            "\n",
            "Epoch 00004: val_acc did not improve from 0.99410\n",
            "Epoch 5/30\n",
            "\n",
            "Epoch 00005: LearningRateScheduler setting learning rate to 0.0013181019.\n",
            "469/469 [==============================] - 6s 14ms/step - loss: 0.9497 - acc: 1.0000 - val_loss: 0.9984 - val_acc: 0.9941\n",
            "\n",
            "Epoch 00005: val_acc did not improve from 0.99410\n",
            "Epoch 6/30\n",
            "\n",
            "Epoch 00006: LearningRateScheduler setting learning rate to 0.0011560694.\n",
            "469/469 [==============================] - 6s 14ms/step - loss: 0.9496 - acc: 1.0000 - val_loss: 0.9986 - val_acc: 0.9938\n",
            "\n",
            "Epoch 00006: val_acc did not improve from 0.99410\n",
            "Epoch 7/30\n",
            "\n",
            "Epoch 00007: LearningRateScheduler setting learning rate to 0.0010295127.\n",
            "469/469 [==============================] - 6s 14ms/step - loss: 0.9496 - acc: 1.0000 - val_loss: 0.9992 - val_acc: 0.9936\n",
            "\n",
            "Epoch 00007: val_acc did not improve from 0.99410\n",
            "Epoch 8/30\n",
            "\n",
            "Epoch 00008: LearningRateScheduler setting learning rate to 0.0009279307.\n",
            "469/469 [==============================] - 7s 14ms/step - loss: 0.9496 - acc: 1.0000 - val_loss: 0.9986 - val_acc: 0.9935\n",
            "\n",
            "Epoch 00008: val_acc did not improve from 0.99410\n",
            "Epoch 00008: early stopping\n"
          ],
          "name": "stdout"
        },
        {
          "output_type": "execute_result",
          "data": {
            "text/plain": [
              "<keras.callbacks.History at 0x7fb49bbed9b0>"
            ]
          },
          "metadata": {
            "tags": []
          },
          "execution_count": 185
        }
      ]
    },
    {
      "cell_type": "markdown",
      "metadata": {
        "id": "cGgFw2GEIwik",
        "colab_type": "text"
      },
      "source": [
        "### Prediction"
      ]
    },
    {
      "cell_type": "code",
      "metadata": {
        "id": "8VKqGkWTo8fn",
        "colab_type": "code",
        "colab": {
          "base_uri": "https://localhost:8080/",
          "height": 200
        },
        "outputId": "81f7ff54-88bb-419c-8373-5f86368c2cc8"
      },
      "source": [
        "from keras.models import load_model\n",
        "model = load_model('/content/drive/My Drive/NormalizationAndRegularizationOnMNIST/weights-06-0.99.hdf5', custom_objects={'loss_with_reg': loss_with_reg, 'loss':loss})"
      ],
      "execution_count": 192,
      "outputs": [
        {
          "output_type": "error",
          "ename": "NameError",
          "evalue": "ignored",
          "traceback": [
            "\u001b[0;31m---------------------------------------------------------------------------\u001b[0m",
            "\u001b[0;31mNameError\u001b[0m                                 Traceback (most recent call last)",
            "\u001b[0;32m<ipython-input-192-3bc256291225>\u001b[0m in \u001b[0;36m<module>\u001b[0;34m()\u001b[0m\n\u001b[1;32m      1\u001b[0m \u001b[0;32mfrom\u001b[0m \u001b[0mkeras\u001b[0m\u001b[0;34m.\u001b[0m\u001b[0mmodels\u001b[0m \u001b[0;32mimport\u001b[0m \u001b[0mload_model\u001b[0m\u001b[0;34m\u001b[0m\u001b[0;34m\u001b[0m\u001b[0m\n\u001b[0;32m----> 2\u001b[0;31m \u001b[0mmodel\u001b[0m \u001b[0;34m=\u001b[0m \u001b[0mload_model\u001b[0m\u001b[0;34m(\u001b[0m\u001b[0;34m'/content/drive/My Drive/NormalizationAndRegularizationOnMNIST/weights-06-0.99.hdf5'\u001b[0m\u001b[0;34m,\u001b[0m \u001b[0mcustom_objects\u001b[0m\u001b[0;34m=\u001b[0m\u001b[0;34m{\u001b[0m\u001b[0;34m'loss_with_reg'\u001b[0m\u001b[0;34m:\u001b[0m \u001b[0mloss_with_reg\u001b[0m\u001b[0;34m,\u001b[0m \u001b[0;34m'loss'\u001b[0m\u001b[0;34m:\u001b[0m\u001b[0mloss\u001b[0m\u001b[0;34m}\u001b[0m\u001b[0;34m)\u001b[0m\u001b[0;34m\u001b[0m\u001b[0;34m\u001b[0m\u001b[0m\n\u001b[0m",
            "\u001b[0;31mNameError\u001b[0m: name 'loss' is not defined"
          ]
        }
      ]
    },
    {
      "cell_type": "code",
      "metadata": {
        "id": "IA05hwHjLJ4_",
        "colab_type": "code",
        "colab": {}
      },
      "source": [
        "# Predict the values from the validation dataset\n",
        "Y_pred = model.predict(testX)\n",
        "# Convert predictions classes to one hot vectors \n",
        "Y_pred_classes = np.argmax(Y_pred, axis = 1) \n",
        "# Convert validation observations to one hot vectors\n",
        "Y_true = np.argmax(testY, axis = 1) \n",
        "# compute the confusion matrix\n",
        "#confusion_mtx = confusion_matrix(Y_true, Y_pred_classes) \n",
        "# plot the confusion matrix\n",
        "#plot_confusion_matrix(confusion_mtx, classes = range(10))"
      ],
      "execution_count": 0,
      "outputs": []
    },
    {
      "cell_type": "code",
      "metadata": {
        "id": "EaXw_n3TIzoX",
        "colab_type": "code",
        "colab": {
          "base_uri": "https://localhost:8080/",
          "height": 805
        },
        "outputId": "9a0b23a8-47ef-4330-ec39-f97e881f0de4"
      },
      "source": [
        "# Errors are difference between predicted labels and true labels\n",
        "errors = (Y_pred_classes - Y_true != 0)\n",
        "\n",
        "Y_pred_classes_errors = Y_pred_classes[errors]\n",
        "Y_pred_errors = Y_pred[errors]\n",
        "Y_true_errors = Y_true[errors]\n",
        "X_val_errors = testX[errors]\n",
        "\n",
        "def display_errors(errors_index,img_errors,pred_errors, obs_errors):\n",
        "    \"\"\" This function shows 25 images with their predicted and real labels\"\"\"\n",
        "    n = 0\n",
        "    nrows = 5\n",
        "    ncols = 5\n",
        "    #fig, ax = plt.subplots(nrows,ncols,sharex=True,sharey=True)\n",
        "    fig, ax = plt.subplots(nrows, ncols, figsize=(10, 14))\n",
        "    for row in range(nrows):\n",
        "        for col in range(ncols):\n",
        "            error = errors_index[n]\n",
        "            ax[row,col].imshow((img_errors[error]).reshape((28,28)))\n",
        "            ax[row,col].set_title(\"Predicted:{}\\n Label :{}\".format(pred_errors[error],obs_errors[error]))\n",
        "            n += 1\n",
        "\n",
        "# Probabilities of the wrong predicted numbers\n",
        "Y_pred_errors_prob = np.max(Y_pred_errors,axis = 1)\n",
        "\n",
        "# Predicted probabilities of the true values in the error set\n",
        "true_prob_errors = np.diagonal(np.take(Y_pred_errors, Y_true_errors, axis=1))\n",
        "\n",
        "# Difference between the probability of the predicted label and the true label\n",
        "delta_pred_true_errors = Y_pred_errors_prob - true_prob_errors\n",
        "\n",
        "# Sorted list of the delta prob errors\n",
        "sorted_dela_errors = np.argsort(delta_pred_true_errors)\n",
        "\n",
        "# Top 25 errors \n",
        "most_important_errors = sorted_dela_errors[-25:]\n",
        "\n",
        "# Show the top 25 errors\n",
        "display_errors(most_important_errors, X_val_errors, Y_pred_classes_errors, Y_true_errors)"
      ],
      "execution_count": 152,
      "outputs": [
        {
          "output_type": "display_data",
          "data": {
            "image/png": "[encoded data removed]",
            "text/plain": [
              "<Figure size 720x1008 with 25 Axes>"
            ]
          },
          "metadata": {
            "tags": []
          }
        }
      ]
    },
    {
      "cell_type": "code",
      "metadata": {
        "id": "FXQ9K8HMLAG6",
        "colab_type": "code",
        "colab": {}
      },
      "source": [
        ""
      ],
      "execution_count": 0,
      "outputs": []
    }
  ]
}