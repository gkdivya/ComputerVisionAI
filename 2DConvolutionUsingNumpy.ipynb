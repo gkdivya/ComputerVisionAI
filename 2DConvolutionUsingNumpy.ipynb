{
  "nbformat": 4,
  "nbformat_minor": 0,
  "metadata": {
    "colab": {
      "name": "Untitled43.ipynb",
      "provenance": [],
      "authorship_tag": "ABX9TyNFUFZ6GOedXtKBEURLfrtr",
      "include_colab_link": true
    },
    "kernelspec": {
      "name": "python3",
      "display_name": "Python 3"
    },
    "language_info": {
      "name": "python"
    }
  },
  "cells": [
    {
      "cell_type": "markdown",
      "metadata": {
        "id": "view-in-github",
        "colab_type": "text"
      },
      "source": [
        "<a href=\"https://colab.research.google.com/github/gkdivya/ComputerVisionAI/blob/master/2DConvolutionUsingNumpy.ipynb\" target=\"_parent\"><img src=\"https://colab.research.google.com/assets/colab-badge.svg\" alt=\"Open In Colab\"/></a>"
      ]
    },
    {
      "cell_type": "code",
      "metadata": {
        "id": "xCw5N3zsCihJ"
      },
      "source": [
        "import numpy as np \n",
        "image = np.random.random((5,5)) \n",
        "image = np.around(image, decimals = 2)"
      ],
      "execution_count": 2,
      "outputs": []
    },
    {
      "cell_type": "code",
      "metadata": {
        "id": "LpyRkvBsEXua"
      },
      "source": [
        "image = np.pad(image, pad_width=1)"
      ],
      "execution_count": 3,
      "outputs": []
    },
    {
      "cell_type": "code",
      "metadata": {
        "colab": {
          "base_uri": "https://localhost:8080/"
        },
        "id": "lPqCkiYXEtGO",
        "outputId": "d6c63cbd-b46f-457b-8921-2da95dae3f19"
      },
      "source": [
        "print(\"Image:\", image)"
      ],
      "execution_count": 4,
      "outputs": [
        {
          "output_type": "stream",
          "text": [
            "Image: [[0.   0.   0.   0.   0.   0.   0.  ]\n",
            " [0.   0.14 0.32 0.57 0.53 0.38 0.  ]\n",
            " [0.   0.21 0.62 0.72 0.2  0.19 0.  ]\n",
            " [0.   0.84 0.68 0.2  0.42 0.76 0.  ]\n",
            " [0.   0.38 0.03 1.   0.36 0.19 0.  ]\n",
            " [0.   0.6  0.89 0.67 0.63 0.62 0.  ]\n",
            " [0.   0.   0.   0.   0.   0.   0.  ]]\n"
          ],
          "name": "stdout"
        }
      ]
    },
    {
      "cell_type": "code",
      "metadata": {
        "id": "K2pRJgjMCjnO"
      },
      "source": [
        "kernel = np.zeros((3,3), dtype=float) "
      ],
      "execution_count": 5,
      "outputs": []
    },
    {
      "cell_type": "code",
      "metadata": {
        "id": "yEHrrxtaDYGW"
      },
      "source": [
        "kernel[1][2] = 1"
      ],
      "execution_count": 6,
      "outputs": []
    },
    {
      "cell_type": "code",
      "metadata": {
        "colab": {
          "base_uri": "https://localhost:8080/"
        },
        "id": "xGxEw6X8DWTI",
        "outputId": "cfa50e84-6000-4a42-a2da-e234ef3f791a"
      },
      "source": [
        "print(kernel)"
      ],
      "execution_count": 7,
      "outputs": [
        {
          "output_type": "stream",
          "text": [
            "[[0. 0. 0.]\n",
            " [0. 0. 1.]\n",
            " [0. 0. 0.]]\n"
          ],
          "name": "stdout"
        }
      ]
    },
    {
      "cell_type": "code",
      "metadata": {
        "id": "5H_35HLNDy8M",
        "outputId": "61f122d0-7cd9-4c7e-d6db-d02c1f0f9688",
        "colab": {
          "base_uri": "https://localhost:8080/"
        }
      },
      "source": [
        "output = np.zeros((5,5), dtype=float)\n",
        "output"
      ],
      "execution_count": 11,
      "outputs": [
        {
          "output_type": "execute_result",
          "data": {
            "text/plain": [
              "array([[0., 0., 0., 0., 0.],\n",
              "       [0., 0., 0., 0., 0.],\n",
              "       [0., 0., 0., 0., 0.],\n",
              "       [0., 0., 0., 0., 0.],\n",
              "       [0., 0., 0., 0., 0.]])"
            ]
          },
          "metadata": {
            "tags": []
          },
          "execution_count": 11
        }
      ]
    },
    {
      "cell_type": "code",
      "metadata": {
        "id": "qS8iWhY5P5fU",
        "outputId": "acdbd347-096b-48ce-c657-fec84ce48c44",
        "colab": {
          "base_uri": "https://localhost:8080/"
        }
      },
      "source": [
        "xImgShape, yImgShape = image.shape\n",
        "xKernelShape, yKernelShape = kernel.shape\n",
        "\n",
        "\n",
        "print(image.shape)\n",
        "print(yImgShape - yKernelShape)"
      ],
      "execution_count": 24,
      "outputs": [
        {
          "output_type": "stream",
          "text": [
            "(7, 7)\n",
            "4\n"
          ],
          "name": "stdout"
        }
      ]
    },
    {
      "cell_type": "code",
      "metadata": {
        "id": "JjVR8Ko6XOlb",
        "outputId": "55a08b1a-a59b-470d-d2c0-48647f41664b",
        "colab": {
          "base_uri": "https://localhost:8080/"
        }
      },
      "source": [
        "print(image[0:3, 0:3])"
      ],
      "execution_count": 30,
      "outputs": [
        {
          "output_type": "stream",
          "text": [
            "[[0.   0.   0.  ]\n",
            " [0.   0.14 0.32]\n",
            " [0.   0.21 0.62]]\n"
          ],
          "name": "stdout"
        }
      ]
    },
    {
      "cell_type": "code",
      "metadata": {
        "id": "g0h4up8GDlYk",
        "outputId": "08e15535-a3d3-490b-be16-8e655c37f2d6",
        "colab": {
          "base_uri": "https://localhost:8080/"
        }
      },
      "source": [
        "for y in range(yImgShape):\n",
        "  print(y)\n",
        "  if y >= yImgShape - yKernelShape:\n",
        "    print(\"breaking for y\")\n",
        "    break\n",
        "\n",
        "  for x in range(xImgShape):\n",
        "    # Go to next row once kernel is out of bounds\n",
        "    print(x)\n",
        "    if x >= xImgShape - xKernelShape:\n",
        "       break\n",
        "    print(\"**************\",image[x: x + xKernelShape, y: y + yKernelShape])\n",
        "    #   print((kernel * image[x: x + xKernelShape, y: y + yKernelShape]).sum())\n",
        "    #   output[x, y] = (kernel * image[x: x + xKernelShape, y: y + yKernelShape]).sum()      \n",
        "\n",
        "print(output)"
      ],
      "execution_count": 32,
      "outputs": [
        {
          "output_type": "stream",
          "text": [
            "0\n",
            "0\n",
            "************** [[0.   0.   0.  ]\n",
            " [0.   0.14 0.32]\n",
            " [0.   0.21 0.62]]\n",
            "1\n",
            "************** [[0.   0.14 0.32]\n",
            " [0.   0.21 0.62]\n",
            " [0.   0.84 0.68]]\n",
            "2\n",
            "************** [[0.   0.21 0.62]\n",
            " [0.   0.84 0.68]\n",
            " [0.   0.38 0.03]]\n",
            "3\n",
            "************** [[0.   0.84 0.68]\n",
            " [0.   0.38 0.03]\n",
            " [0.   0.6  0.89]]\n",
            "4\n",
            "1\n",
            "0\n",
            "************** [[0.   0.   0.  ]\n",
            " [0.14 0.32 0.57]\n",
            " [0.21 0.62 0.72]]\n",
            "1\n",
            "************** [[0.14 0.32 0.57]\n",
            " [0.21 0.62 0.72]\n",
            " [0.84 0.68 0.2 ]]\n",
            "2\n",
            "************** [[0.21 0.62 0.72]\n",
            " [0.84 0.68 0.2 ]\n",
            " [0.38 0.03 1.  ]]\n",
            "3\n",
            "************** [[0.84 0.68 0.2 ]\n",
            " [0.38 0.03 1.  ]\n",
            " [0.6  0.89 0.67]]\n",
            "4\n",
            "2\n",
            "0\n",
            "************** [[0.   0.   0.  ]\n",
            " [0.32 0.57 0.53]\n",
            " [0.62 0.72 0.2 ]]\n",
            "1\n",
            "************** [[0.32 0.57 0.53]\n",
            " [0.62 0.72 0.2 ]\n",
            " [0.68 0.2  0.42]]\n",
            "2\n",
            "************** [[0.62 0.72 0.2 ]\n",
            " [0.68 0.2  0.42]\n",
            " [0.03 1.   0.36]]\n",
            "3\n",
            "************** [[0.68 0.2  0.42]\n",
            " [0.03 1.   0.36]\n",
            " [0.89 0.67 0.63]]\n",
            "4\n",
            "3\n",
            "0\n",
            "************** [[0.   0.   0.  ]\n",
            " [0.57 0.53 0.38]\n",
            " [0.72 0.2  0.19]]\n",
            "1\n",
            "************** [[0.57 0.53 0.38]\n",
            " [0.72 0.2  0.19]\n",
            " [0.2  0.42 0.76]]\n",
            "2\n",
            "************** [[0.72 0.2  0.19]\n",
            " [0.2  0.42 0.76]\n",
            " [1.   0.36 0.19]]\n",
            "3\n",
            "************** [[0.2  0.42 0.76]\n",
            " [1.   0.36 0.19]\n",
            " [0.67 0.63 0.62]]\n",
            "4\n",
            "4\n",
            "breaking for y\n",
            "[[0. 0. 0. 0. 0.]\n",
            " [0. 0. 0. 0. 0.]\n",
            " [0. 0. 0. 0. 0.]\n",
            " [0. 0. 0. 0. 0.]\n",
            " [0. 0. 0. 0. 0.]]\n"
          ],
          "name": "stdout"
        }
      ]
    },
    {
      "cell_type": "code",
      "metadata": {
        "id": "dNVZol1_RoAn"
      },
      "source": [
        ""
      ],
      "execution_count": null,
      "outputs": []
    }
  ]
}