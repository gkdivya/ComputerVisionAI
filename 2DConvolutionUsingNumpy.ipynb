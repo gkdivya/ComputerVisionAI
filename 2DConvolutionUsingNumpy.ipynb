{
  "nbformat": 4,
  "nbformat_minor": 0,
  "metadata": {
    "colab": {
      "name": "Untitled43.ipynb",
      "provenance": [],
      "authorship_tag": "ABX9TyMi27KU4EvsRS0DRfPgnqrB",
      "include_colab_link": true
    },
    "kernelspec": {
      "name": "python3",
      "display_name": "Python 3"
    },
    "language_info": {
      "name": "python"
    }
  },
  "cells": [
    {
      "cell_type": "markdown",
      "metadata": {
        "id": "view-in-github",
        "colab_type": "text"
      },
      "source": [
        "<a href=\"https://colab.research.google.com/github/gkdivya/ComputerVisionAI/blob/master/2DConvolutionUsingNumpy.ipynb\" target=\"_parent\"><img src=\"https://colab.research.google.com/assets/colab-badge.svg\" alt=\"Open In Colab\"/></a>"
      ]
    },
    {
      "cell_type": "code",
      "metadata": {
        "id": "xCw5N3zsCihJ"
      },
      "source": [
        "import numpy as np \n",
        "image = np.random.random((5,5)) \n",
        "image = np.around(image, decimals = 2)"
      ],
      "execution_count": 2,
      "outputs": []
    },
    {
      "cell_type": "code",
      "metadata": {
        "id": "LpyRkvBsEXua"
      },
      "source": [
        "image = np.pad(image, pad_width=1)"
      ],
      "execution_count": 3,
      "outputs": []
    },
    {
      "cell_type": "code",
      "metadata": {
        "colab": {
          "base_uri": "https://localhost:8080/"
        },
        "id": "lPqCkiYXEtGO",
        "outputId": "8015581e-03af-4ba3-99d5-645626b13f45"
      },
      "source": [
        "print(\"Image:\", image)"
      ],
      "execution_count": 4,
      "outputs": [
        {
          "output_type": "stream",
          "text": [
            "Image: [[0.   0.   0.   0.   0.   0.   0.  ]\n",
            " [0.   0.77 0.03 0.58 0.03 0.19 0.  ]\n",
            " [0.   0.22 1.   0.3  0.21 0.68 0.  ]\n",
            " [0.   0.32 0.11 0.77 0.13 0.65 0.  ]\n",
            " [0.   0.63 0.84 0.86 0.94 0.05 0.  ]\n",
            " [0.   0.05 0.69 0.9  0.32 0.29 0.  ]\n",
            " [0.   0.   0.   0.   0.   0.   0.  ]]\n"
          ],
          "name": "stdout"
        }
      ]
    },
    {
      "cell_type": "code",
      "metadata": {
        "id": "K2pRJgjMCjnO"
      },
      "source": [
        "kernel = np.zeros((3,3), dtype=float) "
      ],
      "execution_count": 5,
      "outputs": []
    },
    {
      "cell_type": "code",
      "metadata": {
        "id": "yEHrrxtaDYGW"
      },
      "source": [
        "kernel[1][2] = 1"
      ],
      "execution_count": 6,
      "outputs": []
    },
    {
      "cell_type": "code",
      "metadata": {
        "colab": {
          "base_uri": "https://localhost:8080/"
        },
        "id": "xGxEw6X8DWTI",
        "outputId": "c846e036-9f8f-40db-8683-a83c0241198f"
      },
      "source": [
        "print(kernel)"
      ],
      "execution_count": 7,
      "outputs": [
        {
          "output_type": "stream",
          "text": [
            "[[0. 0. 0.]\n",
            " [0. 0. 1.]\n",
            " [0. 0. 0.]]\n"
          ],
          "name": "stdout"
        }
      ]
    },
    {
      "cell_type": "code",
      "metadata": {
        "id": "5H_35HLNDy8M",
        "colab": {
          "base_uri": "https://localhost:8080/"
        },
        "outputId": "acb47524-270a-48ec-b37e-4c7302cec655"
      },
      "source": [
        "output = np.zeros((5,5), dtype=float)\n",
        "output"
      ],
      "execution_count": 8,
      "outputs": [
        {
          "output_type": "execute_result",
          "data": {
            "text/plain": [
              "array([[0., 0., 0., 0., 0.],\n",
              "       [0., 0., 0., 0., 0.],\n",
              "       [0., 0., 0., 0., 0.],\n",
              "       [0., 0., 0., 0., 0.],\n",
              "       [0., 0., 0., 0., 0.]])"
            ]
          },
          "metadata": {
            "tags": []
          },
          "execution_count": 8
        }
      ]
    },
    {
      "cell_type": "code",
      "metadata": {
        "id": "qS8iWhY5P5fU",
        "colab": {
          "base_uri": "https://localhost:8080/"
        },
        "outputId": "6b57701d-4b3c-4922-93a8-ef9fb4692c6b"
      },
      "source": [
        "xImgShape, yImgShape = image.shape\n",
        "xKernelShape, yKernelShape = kernel.shape\n",
        "\n",
        "\n",
        "print(image.shape)\n",
        "print(yImgShape - yKernelShape)"
      ],
      "execution_count": 9,
      "outputs": [
        {
          "output_type": "stream",
          "text": [
            "(7, 7)\n",
            "4\n"
          ],
          "name": "stdout"
        }
      ]
    },
    {
      "cell_type": "code",
      "metadata": {
        "id": "JjVR8Ko6XOlb",
        "colab": {
          "base_uri": "https://localhost:8080/"
        },
        "outputId": "db94ddb2-d074-426e-c33e-c812bb2497d4"
      },
      "source": [
        "print(image[0:3, 0:3])"
      ],
      "execution_count": 10,
      "outputs": [
        {
          "output_type": "stream",
          "text": [
            "[[0.   0.   0.  ]\n",
            " [0.   0.77 0.03]\n",
            " [0.   0.22 1.  ]]\n"
          ],
          "name": "stdout"
        }
      ]
    },
    {
      "cell_type": "code",
      "metadata": {
        "id": "g0h4up8GDlYk",
        "colab": {
          "base_uri": "https://localhost:8080/"
        },
        "outputId": "13c5cbf9-3408-42c5-df67-99eacca69c2f"
      },
      "source": [
        "for x in range(xImgShape):\n",
        "  # Go to next row once kernel is out of bounds\n",
        "  if x > xImgShape - xKernelShape:\n",
        "      break\n",
        "\n",
        "  for y in range(yImgShape):\n",
        "    # Go to next column once kernel is out of bounds\n",
        "    if y > yImgShape - yKernelShape:\n",
        "      break\n",
        "\n",
        "    output[x, y] = np.sum(kernel * image[x: x + xKernelShape, y: y + yKernelShape])  \n",
        "\n",
        "print(output)"
      ],
      "execution_count": 21,
      "outputs": [
        {
          "output_type": "stream",
          "text": [
            "[[0.03 0.58 0.03 0.19 0.  ]\n",
            " [1.   0.3  0.21 0.68 0.  ]\n",
            " [0.11 0.77 0.13 0.65 0.  ]\n",
            " [0.84 0.86 0.94 0.05 0.  ]\n",
            " [0.69 0.9  0.32 0.29 0.  ]]\n"
          ],
          "name": "stdout"
        }
      ]
    },
    {
      "cell_type": "code",
      "metadata": {
        "id": "dNVZol1_RoAn"
      },
      "source": [
        ""
      ],
      "execution_count": 10,
      "outputs": []
    }
  ]
}