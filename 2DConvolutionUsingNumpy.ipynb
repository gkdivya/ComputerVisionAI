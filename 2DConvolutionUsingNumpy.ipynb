{
  "nbformat": 4,
  "nbformat_minor": 0,
  "metadata": {
    "colab": {
      "name": "Untitled43.ipynb",
      "provenance": [],
      "authorship_tag": "ABX9TyMHFlgD7//JhNKuPs9Sq9w3",
      "include_colab_link": true
    },
    "kernelspec": {
      "name": "python3",
      "display_name": "Python 3"
    },
    "language_info": {
      "name": "python"
    }
  },
  "cells": [
    {
      "cell_type": "markdown",
      "metadata": {
        "id": "view-in-github",
        "colab_type": "text"
      },
      "source": [
        "<a href=\"https://colab.research.google.com/github/gkdivya/ComputerVisionAI/blob/master/2DConvolutionUsingNumpy.ipynb\" target=\"_parent\"><img src=\"https://colab.research.google.com/assets/colab-badge.svg\" alt=\"Open In Colab\"/></a>"
      ]
    },
    {
      "cell_type": "code",
      "metadata": {
        "id": "xCw5N3zsCihJ"
      },
      "source": [
        "import numpy as np \n",
        "image = np.random.random((5,5)) \n",
        "image = np.around(image, decimals = 2)"
      ],
      "execution_count": 12,
      "outputs": []
    },
    {
      "cell_type": "code",
      "metadata": {
        "id": "LpyRkvBsEXua"
      },
      "source": [
        "image = np.pad(image, pad_width=1)"
      ],
      "execution_count": 13,
      "outputs": []
    },
    {
      "cell_type": "code",
      "metadata": {
        "colab": {
          "base_uri": "https://localhost:8080/"
        },
        "id": "lPqCkiYXEtGO",
        "outputId": "278078c3-b6b5-4779-a115-4020dc1d247d"
      },
      "source": [
        "print(\"Image:\", image)"
      ],
      "execution_count": 14,
      "outputs": [
        {
          "output_type": "stream",
          "text": [
            "Image: [[0.   0.   0.   0.   0.   0.   0.  ]\n",
            " [0.   0.05 0.5  0.83 0.59 0.18 0.  ]\n",
            " [0.   0.82 0.59 0.79 0.53 0.66 0.  ]\n",
            " [0.   0.16 0.36 0.43 0.93 0.68 0.  ]\n",
            " [0.   0.54 0.46 0.04 0.23 0.13 0.  ]\n",
            " [0.   0.4  0.61 0.22 0.12 0.52 0.  ]\n",
            " [0.   0.   0.   0.   0.   0.   0.  ]]\n"
          ],
          "name": "stdout"
        }
      ]
    },
    {
      "cell_type": "code",
      "metadata": {
        "id": "K2pRJgjMCjnO"
      },
      "source": [
        "kernel = np.zeros((3,3), dtype=float) "
      ],
      "execution_count": 4,
      "outputs": []
    },
    {
      "cell_type": "code",
      "metadata": {
        "id": "yEHrrxtaDYGW"
      },
      "source": [
        "kernel[1][2] = 1"
      ],
      "execution_count": 6,
      "outputs": []
    },
    {
      "cell_type": "code",
      "metadata": {
        "colab": {
          "base_uri": "https://localhost:8080/"
        },
        "id": "xGxEw6X8DWTI",
        "outputId": "85d5a7b2-ef42-43cb-8aa1-843783d7ac66"
      },
      "source": [
        "print(kernel)"
      ],
      "execution_count": 7,
      "outputs": [
        {
          "output_type": "stream",
          "text": [
            "[[0. 0. 0.]\n",
            " [0. 0. 1.]\n",
            " [0. 0. 0.]]\n"
          ],
          "name": "stdout"
        }
      ]
    },
    {
      "cell_type": "code",
      "metadata": {
        "id": "5H_35HLNDy8M"
      },
      "source": [
        "output = np.zeros(5,5)"
      ],
      "execution_count": null,
      "outputs": []
    },
    {
      "cell_type": "code",
      "metadata": {
        "colab": {
          "base_uri": "https://localhost:8080/"
        },
        "id": "mIYYi17vEkWi",
        "outputId": "a3beeb5a-43da-4a4a-9595-7e299558a803"
      },
      "source": [
        "print(len(image))"
      ],
      "execution_count": 15,
      "outputs": [
        {
          "output_type": "stream",
          "text": [
            "7\n"
          ],
          "name": "stdout"
        }
      ]
    },
    {
      "cell_type": "code",
      "metadata": {
        "id": "g0h4up8GDlYk"
      },
      "source": [
        "for i in range(len(image)):\n",
        "  for j in range(len(image)):\n",
        "    if j < kernel.size:\n",
        "      \n"
      ],
      "execution_count": null,
      "outputs": []
    }
  ]
}