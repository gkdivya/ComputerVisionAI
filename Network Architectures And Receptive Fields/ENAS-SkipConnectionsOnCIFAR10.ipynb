{
  "nbformat": 4,
  "nbformat_minor": 0,
  "metadata": {
    "colab": {
      "name": "Assignment_6B.ipynb",
      "version": "0.3.2",
      "provenance": [],
      "toc_visible": true,
      "include_colab_link": true
    },
    "kernelspec": {
      "name": "python3",
      "display_name": "Python 3"
    },
    "accelerator": "GPU"
  },
  "cells": [
    {
      "cell_type": "markdown",
      "metadata": {
        "id": "view-in-github",
        "colab_type": "text"
      },
      "source": [
        "<a href=\"https://colab.research.google.com/github/gkdivya/EVA/blob/master/Network%20Architectures%20And%20Receptive%20Fields/ENAS-SkipConnectionsOnCIFAR10.ipynb\" target=\"_parent\"><img src=\"https://colab.research.google.com/assets/colab-badge.svg\" alt=\"Open In Colab\"/></a>"
      ]
    },
    {
      "cell_type": "markdown",
      "metadata": {
        "id": "Mq7j7Zj_D5FE",
        "colab_type": "text"
      },
      "source": [
        "## In this notebook, advanced convolutions are explored\n",
        "\n",
        "## We will redesign the CIFAR10 network designed in assignment_6A using different convolutions in the below order:\n",
        "\n",
        "1.   Normal Convolution\n",
        "2.   Spatially Separable Convolution  (Conv2d(x, (3,1)) followed by Conv2D(x,(1,3))\n",
        "3.   Depthwise Separable Convolution\n",
        "4.   Grouped Convolution (use 3x3, 5x5 only)\n",
        "5.   Grouped Convolution (use 3x3 only, one with dilation = 1, and another with dilation = 2) \n",
        "\n",
        "and train it for 50 epochs\n",
        "\n",
        "\n",
        "\n",
        "\n",
        "\n"
      ]
    },
    {
      "cell_type": "markdown",
      "metadata": {
        "id": "TMtqlmckWTpW",
        "colab_type": "text"
      },
      "source": [
        "### Importing libraries "
      ]
    },
    {
      "cell_type": "code",
      "metadata": {
        "id": "KkwXnw9OfHZl",
        "colab_type": "code",
        "colab": {}
      },
      "source": [
        "from keras import backend as K\n",
        "import time\n",
        "import matplotlib.pyplot as plt\n",
        "import numpy as np\n",
        "% matplotlib inline\n",
        "np.random.seed(2017) \n",
        "\n",
        "from keras.layers import Input\n",
        "from keras.models import Sequential, Model\n",
        "from keras.layers.convolutional import Convolution2D, MaxPooling2D\n",
        "from keras.layers.convolutional import Conv2D\n",
        "from keras.layers.merge import concatenate\n",
        "from keras.layers import MaxPooling2D, Dense, Dropout, Input, Flatten, SeparableConv2D, DepthwiseConv2D, GlobalAveragePooling2D\n",
        "from keras.layers import Activation, Flatten, Dense, Dropout\n",
        "from keras.layers.normalization import BatchNormalization\n",
        "\n",
        "from keras.callbacks import ModelCheckpoint, EarlyStopping, CSVLogger\n",
        "from keras.utils import np_utils"
      ],
      "execution_count": 0,
      "outputs": []
    },
    {
      "cell_type": "markdown",
      "metadata": {
        "id": "uHEmKP2mWlj-",
        "colab_type": "text"
      },
      "source": [
        "### Loading CIFAR10 dataset "
      ]
    },
    {
      "cell_type": "code",
      "metadata": {
        "id": "NHpnoCHZfO8g",
        "colab_type": "code",
        "colab": {}
      },
      "source": [
        "from keras.datasets import cifar10\n",
        "(train_features, train_labels), (test_features, test_labels) = cifar10.load_data()\n",
        "num_train, img_channels, img_rows, img_cols =  train_features.shape\n",
        "num_test, _, _, _ =  test_features.shape\n",
        "num_classes = len(np.unique(train_labels))"
      ],
      "execution_count": 0,
      "outputs": []
    },
    {
      "cell_type": "markdown",
      "metadata": {
        "id": "iwYw4-XVWo8U",
        "colab_type": "text"
      },
      "source": [
        "**Visualiaze some sample Images from the dataset**"
      ]
    },
    {
      "cell_type": "code",
      "metadata": {
        "id": "14HyBUXdfS6G",
        "colab_type": "code",
        "outputId": "8578d147-35c6-418d-da26-330d56bd1850",
        "colab": {
          "base_uri": "https://localhost:8080/",
          "height": 213
        }
      },
      "source": [
        "class_names = ['airplane','automobile','bird','cat','deer',\n",
        "               'dog','frog','horse','ship','truck']\n",
        "fig = plt.figure(figsize=(8,3))\n",
        "for i in range(num_classes):\n",
        "    ax = fig.add_subplot(2, 5, 1 + i, xticks=[], yticks=[])\n",
        "    idx = np.where(train_labels[:]==i)[0]\n",
        "    features_idx = train_features[idx,::]\n",
        "    img_num = np.random.randint(features_idx.shape[0])\n",
        "    im = features_idx[img_num]\n",
        "    ax.set_title(class_names[i])\n",
        "    plt.imshow(im)\n",
        "plt.show()"
      ],
      "execution_count": 0,
      "outputs": [
        {
          "output_type": "display_data",
          "data": {
            "image/png": "[encoded data removed]",
            "text/plain": [
              "<Figure size 576x216 with 10 Axes>"
            ]
          },
          "metadata": {
            "tags": []
          }
        }
      ]
    },
    {
      "cell_type": "markdown",
      "metadata": {
        "id": "jr9n_zhqXZtW",
        "colab_type": "text"
      },
      "source": [
        "**Dividing pixel values by 255, standardize the inputs, also performed one hot encoding**"
      ]
    },
    {
      "cell_type": "code",
      "metadata": {
        "id": "7fJHIxyonLsc",
        "colab_type": "code",
        "colab": {}
      },
      "source": [
        "train_features = train_features.astype('float32')/255\n",
        "test_features = test_features.astype('float32')/255\n",
        "# convert class labels to binary class labels\n",
        "train_labels = np_utils.to_categorical(train_labels, num_classes)\n",
        "test_labels = np_utils.to_categorical(test_labels, num_classes)"
      ],
      "execution_count": 0,
      "outputs": []
    },
    {
      "cell_type": "markdown",
      "metadata": {
        "id": "zm0_-CnPXRDN",
        "colab_type": "text"
      },
      "source": [
        "**Defining functions to plot model history, find accuracy**"
      ]
    },
    {
      "cell_type": "code",
      "metadata": {
        "id": "bmfsk76-fadV",
        "colab_type": "code",
        "colab": {}
      },
      "source": [
        "def plot_model_history(model_history):\n",
        "    fig, axs = plt.subplots(1,2,figsize=(15,5))\n",
        "    # summarize history for accuracy\n",
        "    axs[0].plot(range(1,len(model_history.history['acc'])+1),model_history.history['acc'])\n",
        "    axs[0].plot(range(1,len(model_history.history['val_acc'])+1),model_history.history['val_acc'])\n",
        "    axs[0].set_title('Model Accuracy')\n",
        "    axs[0].set_ylabel('Accuracy')\n",
        "    axs[0].set_xlabel('Epoch')\n",
        "    axs[0].set_xticks(np.arange(1,len(model_history.history['acc'])+1),len(model_history.history['acc'])/10)\n",
        "    axs[0].legend(['train', 'val'], loc='best')\n",
        "    # summarize history for loss\n",
        "    axs[1].plot(range(1,len(model_history.history['loss'])+1),model_history.history['loss'])\n",
        "    axs[1].plot(range(1,len(model_history.history['val_loss'])+1),model_history.history['val_loss'])\n",
        "    axs[1].set_title('Model Loss')\n",
        "    axs[1].set_ylabel('Loss')\n",
        "    axs[1].set_xlabel('Epoch')\n",
        "    axs[1].set_xticks(np.arange(1,len(model_history.history['loss'])+1),len(model_history.history['loss'])/10)\n",
        "    axs[1].legend(['train', 'val'], loc='best')\n",
        "    plt.show()"
      ],
      "execution_count": 0,
      "outputs": []
    },
    {
      "cell_type": "code",
      "metadata": {
        "id": "YJMT4rjgfdZz",
        "colab_type": "code",
        "colab": {}
      },
      "source": [
        "def accuracy(test_x, test_y, model):\n",
        "    result = model.predict(test_x)\n",
        "    predicted_class = np.argmax(result, axis=1)\n",
        "    true_class = np.argmax(test_y, axis=1)\n",
        "    num_correct = np.sum(predicted_class == true_class) \n",
        "    accuracy = float(num_correct)/result.shape[0]\n",
        "    return (accuracy * 100)"
      ],
      "execution_count": 0,
      "outputs": []
    },
    {
      "cell_type": "code",
      "metadata": {
        "id": "fMb0s2eQoOh7",
        "colab_type": "code",
        "colab": {}
      },
      "source": [
        "def accuracy_iterator(test_iterator, model):\n",
        "  _, accuracy = model.evaluate_generator(test_iterator, steps=len(test_iterator), verbose=0)\n",
        "  return (accuracy * 100)"
      ],
      "execution_count": 0,
      "outputs": []
    },
    {
      "cell_type": "markdown",
      "metadata": {
        "id": "TK9HmkU9XcG_",
        "colab_type": "text"
      },
      "source": [
        "### Define Model using functional api"
      ]
    },
    {
      "cell_type": "code",
      "metadata": {
        "id": "XqAXWQEJw4dW",
        "colab_type": "code",
        "outputId": "20510ba0-7806-4840-bdd8-d5183d064768",
        "colab": {
          "base_uri": "https://localhost:8080/",
          "height": 292
        }
      },
      "source": [
        "inputs = Input(shape=(32,32,3), name='ImageInput')\n",
        "x = Conv2D(64, (3,3), activation='relu', padding='same', name='Conv1_1')(inputs) #3\n",
        "x = BatchNormalization()(x)\n",
        "x = Conv2D(128, (3,3), activation='relu', padding='same', name='Conv2_1')(x) #5\n",
        "x = MaxPooling2D((2,2), name='pool1')(x) #10\n",
        "x = Convolution2D(64,(1,1),activation='relu', name='Conv1x1_1')(x)"
      ],
      "execution_count": 0,
      "outputs": [
        {
          "output_type": "stream",
          "text": [
            "WARNING: Logging before flag parsing goes to stderr.\n",
            "W0826 06:10:39.455827 140247121037184 deprecation_wrapper.py:119] From /usr/local/lib/python3.6/dist-packages/keras/backend/tensorflow_backend.py:517: The name tf.placeholder is deprecated. Please use tf.compat.v1.placeholder instead.\n",
            "\n",
            "W0826 06:10:39.499428 140247121037184 deprecation_wrapper.py:119] From /usr/local/lib/python3.6/dist-packages/keras/backend/tensorflow_backend.py:4138: The name tf.random_uniform is deprecated. Please use tf.random.uniform instead.\n",
            "\n",
            "W0826 06:10:39.528154 140247121037184 deprecation_wrapper.py:119] From /usr/local/lib/python3.6/dist-packages/keras/backend/tensorflow_backend.py:74: The name tf.get_default_graph is deprecated. Please use tf.compat.v1.get_default_graph instead.\n",
            "\n",
            "W0826 06:10:39.545437 140247121037184 deprecation_wrapper.py:119] From /usr/local/lib/python3.6/dist-packages/keras/backend/tensorflow_backend.py:174: The name tf.get_default_session is deprecated. Please use tf.compat.v1.get_default_session instead.\n",
            "\n",
            "W0826 06:10:39.546488 140247121037184 deprecation_wrapper.py:119] From /usr/local/lib/python3.6/dist-packages/keras/backend/tensorflow_backend.py:181: The name tf.ConfigProto is deprecated. Please use tf.compat.v1.ConfigProto instead.\n",
            "\n",
            "W0826 06:10:42.353057 140247121037184 deprecation_wrapper.py:119] From /usr/local/lib/python3.6/dist-packages/keras/backend/tensorflow_backend.py:1834: The name tf.nn.fused_batch_norm is deprecated. Please use tf.compat.v1.nn.fused_batch_norm instead.\n",
            "\n",
            "W0826 06:10:42.519503 140247121037184 deprecation_wrapper.py:119] From /usr/local/lib/python3.6/dist-packages/keras/backend/tensorflow_backend.py:3976: The name tf.nn.max_pool is deprecated. Please use tf.nn.max_pool2d instead.\n",
            "\n"
          ],
          "name": "stderr"
        }
      ]
    },
    {
      "cell_type": "markdown",
      "metadata": {
        "id": "otTS_WJNtN_A",
        "colab_type": "text"
      },
      "source": [
        "Spatially Seperable Convolution\n",
        "\n",
        "![alt text](https://github.com/gkdivya/EVA/blob/master/Advanced%20Convolutions/assets/SpatialSeperableConvolution.png?raw=true)"
      ]
    },
    {
      "cell_type": "code",
      "metadata": {
        "id": "cSOb2lkJfhVq",
        "colab_type": "code",
        "colab": {}
      },
      "source": [
        "x = SeparableConv2D(64, (3,1), activation='relu', padding='same', name='Conv3_1')(x)\n",
        "x = SeparableConv2D(64, (1,3), activation='relu', padding='same', name='Conv3_2')(x) #12\n",
        "x = BatchNormalization()(x)\n",
        "x = SeparableConv2D(128, (3,1), activation='relu', depth_multiplier=4, padding='same', name='Conv4_1')(x)\n",
        "x = SeparableConv2D(128, (1,3), activation='relu', depth_multiplier=4, padding='same', name='Conv4_2')(x) #14\n",
        "x = BatchNormalization()(x)\n",
        "x = MaxPooling2D((2,2), name='pool2')(x) #28\n",
        "x = Convolution2D(64,(1,1),activation='relu')(x)"
      ],
      "execution_count": 0,
      "outputs": []
    },
    {
      "cell_type": "code",
      "metadata": {
        "id": "DtB8tiYiZW9J",
        "colab_type": "code",
        "colab": {}
      },
      "source": [
        "x2 = Convolution2D(32, (3, 3),activation='relu', padding='same', name='Conv5_1')(x) #\n",
        "x2 = BatchNormalization()(x2)\n",
        "\n",
        "x3 = Convolution2D(32, (5, 5),activation='relu', padding='same', name='Conv5_2')(x) #\n",
        "x3 = BatchNormalization()(x3)\n",
        "\n",
        "x = concatenate ([x2,x3]) # grouped convolution of 3x3 5x5 #15x15x64"
      ],
      "execution_count": 0,
      "outputs": []
    },
    {
      "cell_type": "code",
      "metadata": {
        "id": "IgbveVHjDgbL",
        "colab_type": "code",
        "colab": {}
      },
      "source": [
        "x4 = Convolution2D(32, (3, 3), dilation_rate=1, activation='relu', padding='same', name='Conv6_1')(x) #\n",
        "x4 = BatchNormalization()(x4)\n",
        "\n",
        "x5 = Convolution2D(32, (5, 5), dilation_rate=2, activation='relu', padding='same', name='Conv6_2')(x) #\n",
        "x5 = BatchNormalization()(x5)\n",
        "\n",
        "x = concatenate ([x4,x5]) # grouped convolution of 3x3 5x5 #15x15x64"
      ],
      "execution_count": 0,
      "outputs": []
    },
    {
      "cell_type": "code",
      "metadata": {
        "id": "6WgjuJTpKIs8",
        "colab_type": "code",
        "colab": {}
      },
      "source": [
        "x = Convolution2D(32, (8, 8), dilation_rate=1, activation='relu', name='Conv7_1')(x)\n",
        "x = Convolution2D(10, (1, 1))(x)"
      ],
      "execution_count": 0,
      "outputs": []
    },
    {
      "cell_type": "code",
      "metadata": {
        "id": "ZnLdPitxKZN7",
        "colab_type": "code",
        "colab": {}
      },
      "source": [
        "flat = Flatten()(x)\n",
        "predictions = Activation('softmax')(flat)\n",
        "model = Model(inputs=inputs, outputs=predictions)"
      ],
      "execution_count": 0,
      "outputs": []
    },
    {
      "cell_type": "code",
      "metadata": {
        "id": "4Pwf8atJXeOi",
        "colab_type": "code",
        "colab": {}
      },
      "source": [
        "# Compile the model\n",
        "model.compile(optimizer='adam', loss='categorical_crossentropy', metrics=['accuracy'])"
      ],
      "execution_count": 0,
      "outputs": []
    },
    {
      "cell_type": "code",
      "metadata": {
        "id": "wvVs5tC8mR6Q",
        "colab_type": "code",
        "outputId": "210ba711-9466-42c8-c9e5-7a371fa6fe55",
        "colab": {
          "base_uri": "https://localhost:8080/",
          "height": 1000
        }
      },
      "source": [
        "model.summary()"
      ],
      "execution_count": 0,
      "outputs": [
        {
          "output_type": "stream",
          "text": [
            "__________________________________________________________________________________________________\n",
            "Layer (type)                    Output Shape         Param #     Connected to                     \n",
            "==================================================================================================\n",
            "ImageInput (InputLayer)         (None, 32, 32, 3)    0                                            \n",
            "__________________________________________________________________________________________________\n",
            "Conv1_1 (Conv2D)                (None, 32, 32, 64)   1792        ImageInput[0][0]                 \n",
            "__________________________________________________________________________________________________\n",
            "batch_normalization_1 (BatchNor (None, 32, 32, 64)   256         Conv1_1[0][0]                    \n",
            "__________________________________________________________________________________________________\n",
            "Conv2_1 (Conv2D)                (None, 32, 32, 128)  73856       batch_normalization_1[0][0]      \n",
            "__________________________________________________________________________________________________\n",
            "pool1 (MaxPooling2D)            (None, 16, 16, 128)  0           Conv2_1[0][0]                    \n",
            "__________________________________________________________________________________________________\n",
            "Conv1x1_1 (Conv2D)              (None, 16, 16, 64)   8256        pool1[0][0]                      \n",
            "__________________________________________________________________________________________________\n",
            "Conv3_1 (SeparableConv2D)       (None, 16, 16, 64)   4352        Conv1x1_1[0][0]                  \n",
            "__________________________________________________________________________________________________\n",
            "Conv3_2 (SeparableConv2D)       (None, 16, 16, 64)   4352        Conv3_1[0][0]                    \n",
            "__________________________________________________________________________________________________\n",
            "batch_normalization_2 (BatchNor (None, 16, 16, 64)   256         Conv3_2[0][0]                    \n",
            "__________________________________________________________________________________________________\n",
            "Conv4_1 (SeparableConv2D)       (None, 16, 16, 128)  33664       batch_normalization_2[0][0]      \n",
            "__________________________________________________________________________________________________\n",
            "Conv4_2 (SeparableConv2D)       (None, 16, 16, 128)  67200       Conv4_1[0][0]                    \n",
            "__________________________________________________________________________________________________\n",
            "batch_normalization_3 (BatchNor (None, 16, 16, 128)  512         Conv4_2[0][0]                    \n",
            "__________________________________________________________________________________________________\n",
            "pool2 (MaxPooling2D)            (None, 8, 8, 128)    0           batch_normalization_3[0][0]      \n",
            "__________________________________________________________________________________________________\n",
            "conv2d_1 (Conv2D)               (None, 8, 8, 64)     8256        pool2[0][0]                      \n",
            "__________________________________________________________________________________________________\n",
            "Conv5_1 (Conv2D)                (None, 8, 8, 32)     18464       conv2d_1[0][0]                   \n",
            "__________________________________________________________________________________________________\n",
            "Conv5_2 (Conv2D)                (None, 8, 8, 32)     51232       conv2d_1[0][0]                   \n",
            "__________________________________________________________________________________________________\n",
            "batch_normalization_4 (BatchNor (None, 8, 8, 32)     128         Conv5_1[0][0]                    \n",
            "__________________________________________________________________________________________________\n",
            "batch_normalization_5 (BatchNor (None, 8, 8, 32)     128         Conv5_2[0][0]                    \n",
            "__________________________________________________________________________________________________\n",
            "concatenate_1 (Concatenate)     (None, 8, 8, 64)     0           batch_normalization_4[0][0]      \n",
            "                                                                 batch_normalization_5[0][0]      \n",
            "__________________________________________________________________________________________________\n",
            "Conv6_1 (Conv2D)                (None, 8, 8, 32)     18464       concatenate_1[0][0]              \n",
            "__________________________________________________________________________________________________\n",
            "Conv6_2 (Conv2D)                (None, 8, 8, 32)     51232       concatenate_1[0][0]              \n",
            "__________________________________________________________________________________________________\n",
            "batch_normalization_6 (BatchNor (None, 8, 8, 32)     128         Conv6_1[0][0]                    \n",
            "__________________________________________________________________________________________________\n",
            "batch_normalization_7 (BatchNor (None, 8, 8, 32)     128         Conv6_2[0][0]                    \n",
            "__________________________________________________________________________________________________\n",
            "concatenate_2 (Concatenate)     (None, 8, 8, 64)     0           batch_normalization_6[0][0]      \n",
            "                                                                 batch_normalization_7[0][0]      \n",
            "__________________________________________________________________________________________________\n",
            "Conv7_1 (Conv2D)                (None, 1, 1, 32)     131104      concatenate_2[0][0]              \n",
            "__________________________________________________________________________________________________\n",
            "conv2d_2 (Conv2D)               (None, 1, 1, 10)     330         Conv7_1[0][0]                    \n",
            "__________________________________________________________________________________________________\n",
            "flatten_2 (Flatten)             (None, 10)           0           conv2d_2[0][0]                   \n",
            "__________________________________________________________________________________________________\n",
            "activation_1 (Activation)       (None, 10)           0           flatten_2[0][0]                  \n",
            "==================================================================================================\n",
            "Total params: 474,090\n",
            "Trainable params: 473,322\n",
            "Non-trainable params: 768\n",
            "__________________________________________________________________________________________________\n"
          ],
          "name": "stdout"
        }
      ]
    },
    {
      "cell_type": "code",
      "metadata": {
        "id": "VnIIe--an8Iu",
        "colab_type": "code",
        "colab": {}
      },
      "source": [
        "# checkpoint\n",
        "filepath=\"/content/drive/My Drive/AdvancedConvolutions/Assignment6B/Models/weights-{epoch:02d}-{val_acc:.2f}.hdf5\"\n",
        "checkpoint = ModelCheckpoint(filepath, monitor='val_acc', verbose=1, save_best_only=True, mode='max')"
      ],
      "execution_count": 0,
      "outputs": []
    },
    {
      "cell_type": "code",
      "metadata": {
        "id": "Qop3xa4emWbV",
        "colab_type": "code",
        "outputId": "f5ac81d7-514f-430e-c568-892b24e50013",
        "colab": {
          "base_uri": "https://localhost:8080/",
          "height": 122
        }
      },
      "source": [
        "from google.colab import drive\n",
        "drive.mount('/content/drive')"
      ],
      "execution_count": 0,
      "outputs": [
        {
          "output_type": "stream",
          "text": [
            "Go to this URL in a browser: https://accounts.google.com/o/oauth2/auth?client_id=947318989803-6bn6qk8qdgf4n4g3pfee6491hc0brc4i.apps.googleusercontent.com&redirect_uri=urn%3Aietf%3Awg%3Aoauth%3A2.0%3Aoob&scope=email%20https%3A%2F%2Fwww.googleapis.com%2Fauth%2Fdocs.test%20https%3A%2F%2Fwww.googleapis.com%2Fauth%2Fdrive%20https%3A%2F%2Fwww.googleapis.com%2Fauth%2Fdrive.photos.readonly%20https%3A%2F%2Fwww.googleapis.com%2Fauth%2Fpeopleapi.readonly&response_type=code\n",
            "\n",
            "Enter your authorization code:\n",
            "··········\n",
            "Mounted at /content/drive\n"
          ],
          "name": "stdout"
        }
      ]
    },
    {
      "cell_type": "code",
      "metadata": {
        "id": "5r_9fo4PlpaF",
        "colab_type": "code",
        "colab": {}
      },
      "source": [
        "# define early stopping callback\n",
        "earlystop = EarlyStopping(monitor='val_acc', min_delta=0.0001, patience=5, \\\n",
        "                          verbose=1, mode='auto')"
      ],
      "execution_count": 0,
      "outputs": []
    },
    {
      "cell_type": "code",
      "metadata": {
        "id": "pKEFZccclw9E",
        "colab_type": "code",
        "colab": {}
      },
      "source": [
        "callbacks_list = [earlystop, checkpoint]"
      ],
      "execution_count": 0,
      "outputs": []
    },
    {
      "cell_type": "code",
      "metadata": {
        "id": "GInV_y1cZdi5",
        "colab_type": "code",
        "outputId": "8201181c-0654-4cd2-deb7-cba8e4942b62",
        "colab": {
          "base_uri": "https://localhost:8080/",
          "height": 1000
        }
      },
      "source": [
        "from keras.preprocessing.image import ImageDataGenerator\n",
        "\n",
        "# applying transformation to image\n",
        "train_gen = ImageDataGenerator(zoom_range=0.0, horizontal_flip=False, featurewise_center=True, featurewise_std_normalization=True)\n",
        "test_gen = ImageDataGenerator(featurewise_center=True, featurewise_std_normalization=True)\n",
        "# fit the data augmentation\n",
        "train_gen.fit(train_features)\n",
        "test_gen.fit(test_features)\n",
        "\n",
        "training_generator= train_gen.flow(train_features, train_labels, batch_size=512)\n",
        "testing_generator= test_gen.flow(test_features, test_labels, batch_size=512, shuffle=False)\n",
        "\n",
        "\n",
        "# train the model\n",
        "start = time.time()\n",
        "# Train the model\n",
        "model_info = model.fit_generator(training_generator, \n",
        "                    steps_per_epoch = len(training_generator),\n",
        "                    epochs=100,\n",
        "                    validation_data = testing_generator,\n",
        "                    validation_steps = len(testing_generator),\n",
        "                    callbacks = callbacks_list)\n",
        "\n",
        "end = time.time()\n",
        "print (\"Model took %0.2f seconds to train\"%(end - start))\n",
        "# plot model history\n",
        "plot_model_history(model_info)\n",
        "# compute test accuracy\n",
        "print (\"Accuracy on test data is: %0.2f\"%accuracy_iterator(testing_generator, model))"
      ],
      "execution_count": 0,
      "outputs": [
        {
          "output_type": "stream",
          "text": [
            "Epoch 1/100\n",
            "98/98 [==============================] - 43s 439ms/step - loss: 1.9211 - acc: 0.3683 - val_loss: 1.5081 - val_acc: 0.4580\n",
            "\n",
            "Epoch 00001: val_acc improved from 0.09640 to 0.45800, saving model to /content/drive/My Drive/AdvancedConvolutions/Assignment6B/Models/weights-01-0.46.hdf5\n",
            "Epoch 2/100\n",
            "98/98 [==============================] - 41s 414ms/step - loss: 1.2158 - acc: 0.5668 - val_loss: 1.3506 - val_acc: 0.5414\n",
            "\n",
            "Epoch 00002: val_acc improved from 0.45800 to 0.54140, saving model to /content/drive/My Drive/AdvancedConvolutions/Assignment6B/Models/weights-02-0.54.hdf5\n",
            "Epoch 3/100\n",
            "98/98 [==============================] - 41s 415ms/step - loss: 0.9211 - acc: 0.6743 - val_loss: 1.2698 - val_acc: 0.5773\n",
            "\n",
            "Epoch 00003: val_acc improved from 0.54140 to 0.57730, saving model to /content/drive/My Drive/AdvancedConvolutions/Assignment6B/Models/weights-03-0.58.hdf5\n",
            "Epoch 4/100\n",
            "98/98 [==============================] - 41s 416ms/step - loss: 0.7302 - acc: 0.7433 - val_loss: 0.9703 - val_acc: 0.6748\n",
            "\n",
            "Epoch 00004: val_acc improved from 0.57730 to 0.67480, saving model to /content/drive/My Drive/AdvancedConvolutions/Assignment6B/Models/weights-04-0.67.hdf5\n",
            "Epoch 5/100\n",
            "98/98 [==============================] - 41s 415ms/step - loss: 0.5838 - acc: 0.7938 - val_loss: 0.8890 - val_acc: 0.7022\n",
            "\n",
            "Epoch 00005: val_acc improved from 0.67480 to 0.70220, saving model to /content/drive/My Drive/AdvancedConvolutions/Assignment6B/Models/weights-05-0.70.hdf5\n",
            "Epoch 6/100\n",
            "98/98 [==============================] - 41s 416ms/step - loss: 0.4657 - acc: 0.8379 - val_loss: 0.8259 - val_acc: 0.7313\n",
            "\n",
            "Epoch 00006: val_acc improved from 0.70220 to 0.73130, saving model to /content/drive/My Drive/AdvancedConvolutions/Assignment6B/Models/weights-06-0.73.hdf5\n",
            "Epoch 7/100\n",
            "98/98 [==============================] - 41s 415ms/step - loss: 0.3666 - acc: 0.8734 - val_loss: 0.8737 - val_acc: 0.7242\n",
            "\n",
            "Epoch 00007: val_acc did not improve from 0.73130\n",
            "Epoch 8/100\n",
            "98/98 [==============================] - 41s 415ms/step - loss: 0.2736 - acc: 0.9081 - val_loss: 0.9718 - val_acc: 0.7241\n",
            "\n",
            "Epoch 00008: val_acc did not improve from 0.73130\n",
            "Epoch 9/100\n",
            "98/98 [==============================] - 41s 415ms/step - loss: 0.2001 - acc: 0.9352 - val_loss: 0.9277 - val_acc: 0.7378\n",
            "\n",
            "Epoch 00009: val_acc improved from 0.73130 to 0.73780, saving model to /content/drive/My Drive/AdvancedConvolutions/Assignment6B/Models/weights-09-0.74.hdf5\n",
            "Epoch 10/100\n",
            "98/98 [==============================] - 41s 414ms/step - loss: 0.1388 - acc: 0.9566 - val_loss: 1.0495 - val_acc: 0.7372\n",
            "\n",
            "Epoch 00010: val_acc did not improve from 0.73780\n",
            "Epoch 11/100\n",
            "98/98 [==============================] - 41s 415ms/step - loss: 0.0972 - acc: 0.9710 - val_loss: 1.0219 - val_acc: 0.7457\n",
            "\n",
            "Epoch 00011: val_acc improved from 0.73780 to 0.74570, saving model to /content/drive/My Drive/AdvancedConvolutions/Assignment6B/Models/weights-11-0.75.hdf5\n",
            "Epoch 12/100\n",
            "98/98 [==============================] - 41s 415ms/step - loss: 0.0652 - acc: 0.9826 - val_loss: 1.0721 - val_acc: 0.7504\n",
            "\n",
            "Epoch 00012: val_acc improved from 0.74570 to 0.75040, saving model to /content/drive/My Drive/AdvancedConvolutions/Assignment6B/Models/weights-12-0.75.hdf5\n",
            "Epoch 13/100\n",
            "98/98 [==============================] - 41s 414ms/step - loss: 0.0537 - acc: 0.9850 - val_loss: 1.1554 - val_acc: 0.7407\n",
            "\n",
            "Epoch 00013: val_acc did not improve from 0.75040\n",
            "Epoch 14/100\n",
            "98/98 [==============================] - 41s 416ms/step - loss: 0.0401 - acc: 0.9892 - val_loss: 1.2729 - val_acc: 0.7373\n",
            "\n",
            "Epoch 00014: val_acc did not improve from 0.75040\n",
            "Epoch 15/100\n",
            "98/98 [==============================] - 41s 415ms/step - loss: 0.0551 - acc: 0.9826 - val_loss: 1.2721 - val_acc: 0.7383\n",
            "\n",
            "Epoch 00015: val_acc did not improve from 0.75040\n",
            "Epoch 16/100\n",
            "98/98 [==============================] - 41s 415ms/step - loss: 0.1033 - acc: 0.9633 - val_loss: 1.4217 - val_acc: 0.7207\n",
            "\n",
            "Epoch 00016: val_acc did not improve from 0.75040\n",
            "Epoch 17/100\n",
            "98/98 [==============================] - 41s 414ms/step - loss: 0.1309 - acc: 0.9531 - val_loss: 1.4774 - val_acc: 0.7146\n",
            "\n",
            "Epoch 00017: val_acc did not improve from 0.75040\n",
            "Epoch 00017: early stopping\n",
            "Model took 699.15 seconds to train\n"
          ],
          "name": "stdout"
        },
        {
          "output_type": "display_data",
          "data": {
            "image/png": "[encoded data removed]",
            "text/plain": [
              "<Figure size 1080x360 with 2 Axes>"
            ]
          },
          "metadata": {
            "tags": []
          }
        },
        {
          "output_type": "stream",
          "text": [
            "Accuracy on test data is: 71.46\n"
          ],
          "name": "stdout"
        }
      ]
    },
    {
      "cell_type": "code",
      "metadata": {
        "id": "hedZk0MPnfRC",
        "colab_type": "code",
        "colab": {}
      },
      "source": [
        "#Redefine the network with dropout and more channels\n",
        "\n",
        "inputs = Input(shape=(32,32,3), name='ImageInput')\n",
        "x = Conv2D(64, (3,3), activation='relu', padding='same', name='Conv1_1')(inputs) #3\n",
        "x = BatchNormalization()(x)\n",
        "x = Dropout(rate=0.25)(x)\n",
        "\n",
        "x = Conv2D(128, (3,3), activation='relu', padding='same', name='Conv2_1')(x) #5\n",
        "x = BatchNormalization()(x)\n",
        "x = Dropout(rate=0.25)(x)\n",
        "\n",
        "x = MaxPooling2D((2,2), name='pool1')(x) #10\n",
        "x = Convolution2D(64,(1,1),activation='relu', name='Conv1x1_1')(x)\n",
        "\n",
        "x = SeparableConv2D(64, (3,1), activation='relu', padding='same', name='Conv3_1')(x)\n",
        "x = BatchNormalization()(x)\n",
        "x = SeparableConv2D(64, (1,3), activation='relu', padding='same', name='Conv3_2')(x) #12\n",
        "x = BatchNormalization()(x)\n",
        "x = Dropout(rate=0.25)(x)\n",
        "\n",
        "x = SeparableConv2D(128, (3,1), activation='relu', depth_multiplier=4, padding='same', name='Conv4_1')(x)\n",
        "x = BatchNormalization()(x)\n",
        "x = SeparableConv2D(128, (1,3), activation='relu', depth_multiplier=4, padding='same', name='Conv4_2')(x) #14\n",
        "x = BatchNormalization()(x)\n",
        "x = Dropout(rate=0.25)(x)\n",
        "\n",
        "x = MaxPooling2D((2,2), name='pool2')(x) #28\n",
        "x = Convolution2D(64,(1,1),activation='relu')(x)\n",
        "\n",
        "x2 = Convolution2D(32, (3, 3),activation='relu', padding='same', name='Conv5_1')(x) #\n",
        "x2 = BatchNormalization()(x2)\n",
        "\n",
        "x3 = Convolution2D(32, (5, 5),activation='relu', padding='same', name='Conv5_2')(x) #\n",
        "x3 = BatchNormalization()(x3)\n",
        "x = concatenate ([x2,x3]) # grouped convolution of 3x3 5x5 \n",
        "x = Dropout(rate=0.1)(x)\n",
        "\n",
        "x4 = Convolution2D(32, (3, 3), dilation_rate=1, activation='relu', padding='same', name='Conv6_1')(x) #\n",
        "x4 = BatchNormalization()(x4)\n",
        "\n",
        "x5 = Convolution2D(32, (5, 5), dilation_rate=2, activation='relu', padding='same', name='Conv6_2')(x) #\n",
        "x5 = BatchNormalization()(x5)\n",
        "x = concatenate ([x4,x5]) # grouped convolution of 3x3 5x5 \n",
        "x = Dropout(rate=0.1)(x)\n",
        "\n",
        "x = Convolution2D(32, (8, 8), name='Conv7_1')(x)\n",
        "x = Convolution2D(10, (1, 1))(x)\n",
        "\n",
        "flat = Flatten()(x)\n",
        "predictions = Activation('softmax')(flat)\n",
        "model = Model(inputs=inputs, outputs=predictions)"
      ],
      "execution_count": 0,
      "outputs": []
    },
    {
      "cell_type": "code",
      "metadata": {
        "id": "hfUrOxvonfj_",
        "colab_type": "code",
        "colab": {}
      },
      "source": [
        "# checkpoint\n",
        "filepath=\"/content/drive/My Drive/AdvancedConvolutions/Assignment6B/Models/weightswithdropout-{epoch:02d}-{val_acc:.2f}.hdf5\"\n",
        "checkpoint = ModelCheckpoint(filepath, monitor='val_acc', verbose=1, save_best_only=True, mode='max')\n",
        "\n",
        "# define early stopping callback\n",
        "earlystop = EarlyStopping(monitor='val_acc', min_delta=0.0001, patience=5, \\\n",
        "                          verbose=1, mode='auto')\n",
        "\n",
        "callbacks_list = [earlystop, checkpoint]\n",
        "\n",
        "# Compile the model\n",
        "model.compile(optimizer='adam', loss='categorical_crossentropy', metrics=['accuracy'])"
      ],
      "execution_count": 0,
      "outputs": []
    },
    {
      "cell_type": "code",
      "metadata": {
        "id": "QKotZlPno7vb",
        "colab_type": "code",
        "outputId": "1b3b8e80-9e01-413f-dedc-83b57d52aa1b",
        "colab": {
          "base_uri": "https://localhost:8080/",
          "height": 1000
        }
      },
      "source": [
        "from keras.preprocessing.image import ImageDataGenerator\n",
        "\n",
        "# applying transformation to image\n",
        "train_gen = ImageDataGenerator(zoom_range=0.0, horizontal_flip=False, featurewise_center=True, featurewise_std_normalization=True)\n",
        "test_gen = ImageDataGenerator(featurewise_center=True, featurewise_std_normalization=True)\n",
        "# fit the data augmentation\n",
        "train_gen.fit(train_features)\n",
        "test_gen.fit(test_features)\n",
        "\n",
        "training_generator= train_gen.flow(train_features, train_labels, batch_size=512)\n",
        "testing_generator= test_gen.flow(test_features, test_labels, batch_size=512, shuffle=False)\n",
        "\n",
        "\n",
        "# train the model\n",
        "start = time.time()\n",
        "# Train the model\n",
        "model_info = model.fit_generator(training_generator, \n",
        "                    steps_per_epoch = len(training_generator),\n",
        "                    epochs=100,\n",
        "                    validation_data = testing_generator,\n",
        "                    validation_steps = len(testing_generator),\n",
        "                    callbacks = callbacks_list)\n",
        "\n",
        "end = time.time()\n",
        "print (\"Model took %0.2f seconds to train\"%(end - start))\n",
        "# plot model history\n",
        "plot_model_history(model_info)\n",
        "# compute test accuracy\n",
        "print (\"Accuracy on test data is: %0.2f\"%accuracy_iterator(testing_generator, model))"
      ],
      "execution_count": 0,
      "outputs": [
        {
          "output_type": "stream",
          "text": [
            "Epoch 1/100\n",
            "98/98 [==============================] - 57s 579ms/step - loss: 1.8358 - acc: 0.3867 - val_loss: 1.6029 - val_acc: 0.4543\n",
            "\n",
            "Epoch 00001: val_acc improved from -inf to 0.45430, saving model to /content/drive/My Drive/AdvancedConvolutions/Assignment6B/Models/weightswithdropout-01-0.45.hdf5\n",
            "Epoch 2/100\n",
            "98/98 [==============================] - 53s 538ms/step - loss: 1.3398 - acc: 0.5333 - val_loss: 1.3607 - val_acc: 0.5279\n",
            "\n",
            "Epoch 00002: val_acc improved from 0.45430 to 0.52790, saving model to /content/drive/My Drive/AdvancedConvolutions/Assignment6B/Models/weightswithdropout-02-0.53.hdf5\n",
            "Epoch 3/100\n",
            "98/98 [==============================] - 53s 537ms/step - loss: 1.1493 - acc: 0.6048 - val_loss: 1.3025 - val_acc: 0.5624\n",
            "\n",
            "Epoch 00003: val_acc improved from 0.52790 to 0.56240, saving model to /content/drive/My Drive/AdvancedConvolutions/Assignment6B/Models/weightswithdropout-03-0.56.hdf5\n",
            "Epoch 4/100\n",
            "98/98 [==============================] - 53s 537ms/step - loss: 0.9788 - acc: 0.6625 - val_loss: 1.0454 - val_acc: 0.6381\n",
            "\n",
            "Epoch 00004: val_acc improved from 0.56240 to 0.63810, saving model to /content/drive/My Drive/AdvancedConvolutions/Assignment6B/Models/weightswithdropout-04-0.64.hdf5\n",
            "Epoch 5/100\n",
            "98/98 [==============================] - 53s 539ms/step - loss: 0.8584 - acc: 0.7007 - val_loss: 0.9044 - val_acc: 0.6843\n",
            "\n",
            "Epoch 00005: val_acc improved from 0.63810 to 0.68430, saving model to /content/drive/My Drive/AdvancedConvolutions/Assignment6B/Models/weightswithdropout-05-0.68.hdf5\n",
            "Epoch 6/100\n",
            "98/98 [==============================] - 53s 538ms/step - loss: 0.7466 - acc: 0.7397 - val_loss: 0.9015 - val_acc: 0.6972\n",
            "\n",
            "Epoch 00006: val_acc improved from 0.68430 to 0.69720, saving model to /content/drive/My Drive/AdvancedConvolutions/Assignment6B/Models/weightswithdropout-06-0.70.hdf5\n",
            "Epoch 7/100\n",
            "98/98 [==============================] - 53s 538ms/step - loss: 0.6525 - acc: 0.7709 - val_loss: 0.8877 - val_acc: 0.6985\n",
            "\n",
            "Epoch 00007: val_acc improved from 0.69720 to 0.69850, saving model to /content/drive/My Drive/AdvancedConvolutions/Assignment6B/Models/weightswithdropout-07-0.70.hdf5\n",
            "Epoch 8/100\n",
            "98/98 [==============================] - 53s 539ms/step - loss: 0.5945 - acc: 0.7913 - val_loss: 0.8867 - val_acc: 0.7094\n",
            "\n",
            "Epoch 00008: val_acc improved from 0.69850 to 0.70940, saving model to /content/drive/My Drive/AdvancedConvolutions/Assignment6B/Models/weightswithdropout-08-0.71.hdf5\n",
            "Epoch 9/100\n",
            "98/98 [==============================] - 53s 538ms/step - loss: 0.5385 - acc: 0.8111 - val_loss: 0.7389 - val_acc: 0.7466\n",
            "\n",
            "Epoch 00009: val_acc improved from 0.70940 to 0.74660, saving model to /content/drive/My Drive/AdvancedConvolutions/Assignment6B/Models/weightswithdropout-09-0.75.hdf5\n",
            "Epoch 10/100\n",
            "98/98 [==============================] - 53s 537ms/step - loss: 0.4829 - acc: 0.8299 - val_loss: 0.7406 - val_acc: 0.7514\n",
            "\n",
            "Epoch 00010: val_acc improved from 0.74660 to 0.75140, saving model to /content/drive/My Drive/AdvancedConvolutions/Assignment6B/Models/weightswithdropout-10-0.75.hdf5\n",
            "Epoch 11/100\n",
            "98/98 [==============================] - 53s 537ms/step - loss: 0.4470 - acc: 0.8408 - val_loss: 0.7942 - val_acc: 0.7429\n",
            "\n",
            "Epoch 00011: val_acc did not improve from 0.75140\n",
            "Epoch 12/100\n",
            "98/98 [==============================] - 52s 535ms/step - loss: 0.4160 - acc: 0.8514 - val_loss: 0.8034 - val_acc: 0.7515\n",
            "\n",
            "Epoch 00012: val_acc improved from 0.75140 to 0.75150, saving model to /content/drive/My Drive/AdvancedConvolutions/Assignment6B/Models/weightswithdropout-12-0.75.hdf5\n",
            "Epoch 13/100\n",
            "98/98 [==============================] - 53s 536ms/step - loss: 0.3772 - acc: 0.8650 - val_loss: 0.7906 - val_acc: 0.7512\n",
            "\n",
            "Epoch 00013: val_acc did not improve from 0.75150\n",
            "Epoch 14/100\n",
            "98/98 [==============================] - 53s 537ms/step - loss: 0.3498 - acc: 0.8753 - val_loss: 0.7464 - val_acc: 0.7686\n",
            "\n",
            "Epoch 00014: val_acc improved from 0.75150 to 0.76860, saving model to /content/drive/My Drive/AdvancedConvolutions/Assignment6B/Models/weightswithdropout-14-0.77.hdf5\n",
            "Epoch 15/100\n",
            "98/98 [==============================] - 53s 536ms/step - loss: 0.3270 - acc: 0.8816 - val_loss: 0.7864 - val_acc: 0.7614\n",
            "\n",
            "Epoch 00015: val_acc did not improve from 0.76860\n",
            "Epoch 16/100\n",
            "98/98 [==============================] - 53s 537ms/step - loss: 0.2955 - acc: 0.8941 - val_loss: 0.8339 - val_acc: 0.7563\n",
            "\n",
            "Epoch 00016: val_acc did not improve from 0.76860\n",
            "Epoch 17/100\n",
            "98/98 [==============================] - 53s 537ms/step - loss: 0.2772 - acc: 0.9006 - val_loss: 0.7490 - val_acc: 0.7742\n",
            "\n",
            "Epoch 00017: val_acc improved from 0.76860 to 0.77420, saving model to /content/drive/My Drive/AdvancedConvolutions/Assignment6B/Models/weightswithdropout-17-0.77.hdf5\n",
            "Epoch 18/100\n",
            "98/98 [==============================] - 52s 535ms/step - loss: 0.2582 - acc: 0.9066 - val_loss: 0.7840 - val_acc: 0.7725\n",
            "\n",
            "Epoch 00018: val_acc did not improve from 0.77420\n",
            "Epoch 19/100\n",
            "98/98 [==============================] - 53s 537ms/step - loss: 0.2389 - acc: 0.9135 - val_loss: 0.8720 - val_acc: 0.7554\n",
            "\n",
            "Epoch 00019: val_acc did not improve from 0.77420\n",
            "Epoch 20/100\n",
            "98/98 [==============================] - 53s 537ms/step - loss: 0.2300 - acc: 0.9162 - val_loss: 0.8253 - val_acc: 0.7733\n",
            "\n",
            "Epoch 00020: val_acc did not improve from 0.77420\n",
            "Epoch 21/100\n",
            "98/98 [==============================] - 53s 538ms/step - loss: 0.2164 - acc: 0.9217 - val_loss: 0.8617 - val_acc: 0.7648\n",
            "\n",
            "Epoch 00021: val_acc did not improve from 0.77420\n",
            "Epoch 22/100\n",
            "98/98 [==============================] - 53s 536ms/step - loss: 0.2081 - acc: 0.9235 - val_loss: 0.9299 - val_acc: 0.7576\n",
            "\n",
            "Epoch 00022: val_acc did not improve from 0.77420\n",
            "Epoch 00022: early stopping\n",
            "Model took 1171.80 seconds to train\n"
          ],
          "name": "stdout"
        },
        {
          "output_type": "display_data",
          "data": {
            "image/png": "[encoded data removed]",
            "text/plain": [
              "<Figure size 1080x360 with 2 Axes>"
            ]
          },
          "metadata": {
            "tags": []
          }
        },
        {
          "output_type": "stream",
          "text": [
            "Accuracy on test data is: 75.76\n"
          ],
          "name": "stdout"
        }
      ]
    },
    {
      "cell_type": "markdown",
      "metadata": {
        "id": "N4Rl3GPu9cYY",
        "colab_type": "text"
      },
      "source": [
        "# Redefining the network with GAP and increasing the receptive field"
      ]
    },
    {
      "cell_type": "code",
      "metadata": {
        "id": "xDg6H2Y0pZ_T",
        "colab_type": "code",
        "colab": {}
      },
      "source": [
        "#Redefine the network with dropout and more channels\n",
        "\n",
        "inputs = Input(shape=(32,32,3), name='ImageInput')\n",
        "x1 = Conv2D(64, (3,3), activation='relu', padding='same', name='x1')(inputs) #3\n",
        "x1 = BatchNormalization()(x1)\n",
        "x1 = Dropout(rate=0.01)(x1)\n",
        "\n",
        "x2 = Conv2D(128, (3,3), activation='relu', padding='same', name='x2')(x1) #5\n",
        "x2 = BatchNormalization()(x2)\n",
        "x2 = Dropout(rate=0.01)(x2)\n",
        "\n",
        "#x3 = MaxPooling2D((2,2), name='pool1')(x2) #10\n",
        "x3 = Convolution2D(64,(1,1),activation='relu', name='x3')(x2)\n",
        "\n",
        "x4 = SeparableConv2D(64, (3,1), activation='relu', padding='same', name='x4')(x3)\n",
        "x4 = BatchNormalization()(x4)\n",
        "\n",
        "x5 = SeparableConv2D(64, (1,3), activation='relu', padding='same', name='x5')(x4) #12\n",
        "x5 = BatchNormalization()(x5)\n",
        "\n",
        "x6 = DepthwiseConv2D(128, (3,3), activation='relu', depth_multiplier=1, padding='same', name='x6')(x5)\n",
        "x7 = BatchNormalization()(x6)\n",
        "\n",
        "#x8 = MaxPooling2D((2,2), name='pool2')(x7) #28\n",
        "x9 = Convolution2D(64,(1,1),activation='relu')(x7)\n",
        "\n",
        "x10 = Convolution2D(32, (3, 3),activation='relu', padding='same', name='x10')(x9) #\n",
        "x10 = BatchNormalization()(x10)\n",
        "\n",
        "x11 = Convolution2D(32, (5, 5),activation='relu', padding='same', name='x11')(x9) #\n",
        "x11 = BatchNormalization()(x11)\n",
        "x12 = concatenate ([x10,x11]) # grouped convolution of 3x3 5x5 \n",
        "\n",
        "\n",
        "x14 = Convolution2D(32, (3, 3), dilation_rate=1, activation='relu', padding='same', name='x14')(x12) #\n",
        "x14 = BatchNormalization()(x14)\n",
        "\n",
        "x15 = Convolution2D(32, (5, 5), dilation_rate=2, activation='relu', padding='same', name='x15')(x12) #\n",
        "x15 = BatchNormalization()(x15)\n",
        "x16 = concatenate ([x14,x15]) # grouped convolution of 3x3 5x5 \n",
        "\n",
        "x17 = Convolution2D(64, (3, 3), dilation_rate=1, activation='relu', padding='same', name='x17')(x16) #\n",
        "x17 = BatchNormalization()(x17)\n",
        "\n",
        "x18 = Convolution2D(128, (5, 5), dilation_rate=2, activation='relu', padding='same', name='x18')(x16) #\n",
        "x18 = BatchNormalization()(x18)\n",
        "x20 = concatenate ([x17,x18]) # grouped convolution of 3x3 5x5 \n",
        "\n",
        "x30 = Conv2D(32, (3,3), activation='relu', padding='same', name='x30')(x20) \n",
        "x30 = BatchNormalization()(x30)\n",
        "\n",
        "x31 = Conv2D(32, (3,3), activation='relu', padding='same', name='x31')(concatenate ([x16,x20]) ) \n",
        "x31 = BatchNormalization()(x31)\n",
        "\n",
        "x21 = Convolution2D(32, (1, 1))(x31)\n",
        "x21 = Conv2D(64, (3,3), activation='relu', name='x21')(x21)\n",
        "x22 = BatchNormalization()(x21)\n",
        "x23 = Convolution2D(10, (1, 1))(x22)\n",
        "\n",
        "#x20 = Convolution2D(32, (8, 8), name='x20')(x19)\n",
        "x24 = GlobalAveragePooling2D()(x23)\n",
        "#x20 = Convolution2D(32, (2, 2), name='x20')(x19)\n",
        "#x25 = Convolution2D(32, (1, 1))(x24)\n",
        "\n",
        "#flat = Flatten()(x24)\n",
        "predictions = Activation('softmax')(x24)\n",
        "model = Model(inputs=inputs, outputs=predictions)"
      ],
      "execution_count": 0,
      "outputs": []
    },
    {
      "cell_type": "code",
      "metadata": {
        "id": "ES60vuFyO5WU",
        "colab_type": "code",
        "outputId": "8df2a653-ef1f-4c97-8c87-b40a881def84",
        "colab": {
          "base_uri": "https://localhost:8080/",
          "height": 1000
        }
      },
      "source": [
        "model.summary()"
      ],
      "execution_count": 0,
      "outputs": [
        {
          "output_type": "stream",
          "text": [
            "Model: \"model_1\"\n",
            "__________________________________________________________________________________________________\n",
            "Layer (type)                    Output Shape         Param #     Connected to                     \n",
            "==================================================================================================\n",
            "ImageInput (InputLayer)         (None, 32, 32, 3)    0                                            \n",
            "__________________________________________________________________________________________________\n",
            "x1 (Conv2D)                     (None, 32, 32, 64)   1792        ImageInput[0][0]                 \n",
            "__________________________________________________________________________________________________\n",
            "batch_normalization_15 (BatchNo (None, 32, 32, 64)   256         x1[0][0]                         \n",
            "__________________________________________________________________________________________________\n",
            "dropout_3 (Dropout)             (None, 32, 32, 64)   0           batch_normalization_15[0][0]     \n",
            "__________________________________________________________________________________________________\n",
            "x2 (Conv2D)                     (None, 32, 32, 128)  73856       dropout_3[0][0]                  \n",
            "__________________________________________________________________________________________________\n",
            "batch_normalization_16 (BatchNo (None, 32, 32, 128)  512         x2[0][0]                         \n",
            "__________________________________________________________________________________________________\n",
            "dropout_4 (Dropout)             (None, 32, 32, 128)  0           batch_normalization_16[0][0]     \n",
            "__________________________________________________________________________________________________\n",
            "x3 (Conv2D)                     (None, 32, 32, 64)   8256        dropout_4[0][0]                  \n",
            "__________________________________________________________________________________________________\n",
            "x4 (SeparableConv2D)            (None, 32, 32, 64)   4352        x3[0][0]                         \n",
            "__________________________________________________________________________________________________\n",
            "batch_normalization_17 (BatchNo (None, 32, 32, 64)   256         x4[0][0]                         \n",
            "__________________________________________________________________________________________________\n",
            "x5 (SeparableConv2D)            (None, 32, 32, 64)   4352        batch_normalization_17[0][0]     \n",
            "__________________________________________________________________________________________________\n",
            "batch_normalization_18 (BatchNo (None, 32, 32, 64)   256         x5[0][0]                         \n",
            "__________________________________________________________________________________________________\n",
            "x6 (DepthwiseConv2D)            (None, 11, 11, 64)   1048640     batch_normalization_18[0][0]     \n",
            "__________________________________________________________________________________________________\n",
            "batch_normalization_19 (BatchNo (None, 11, 11, 64)   256         x6[0][0]                         \n",
            "__________________________________________________________________________________________________\n",
            "conv2d_4 (Conv2D)               (None, 11, 11, 64)   4160        batch_normalization_19[0][0]     \n",
            "__________________________________________________________________________________________________\n",
            "x10 (Conv2D)                    (None, 11, 11, 32)   18464       conv2d_4[0][0]                   \n",
            "__________________________________________________________________________________________________\n",
            "x11 (Conv2D)                    (None, 11, 11, 32)   51232       conv2d_4[0][0]                   \n",
            "__________________________________________________________________________________________________\n",
            "batch_normalization_20 (BatchNo (None, 11, 11, 32)   128         x10[0][0]                        \n",
            "__________________________________________________________________________________________________\n",
            "batch_normalization_21 (BatchNo (None, 11, 11, 32)   128         x11[0][0]                        \n",
            "__________________________________________________________________________________________________\n",
            "concatenate_5 (Concatenate)     (None, 11, 11, 64)   0           batch_normalization_20[0][0]     \n",
            "                                                                 batch_normalization_21[0][0]     \n",
            "__________________________________________________________________________________________________\n",
            "x14 (Conv2D)                    (None, 11, 11, 32)   18464       concatenate_5[0][0]              \n",
            "__________________________________________________________________________________________________\n",
            "x15 (Conv2D)                    (None, 11, 11, 32)   51232       concatenate_5[0][0]              \n",
            "__________________________________________________________________________________________________\n",
            "batch_normalization_22 (BatchNo (None, 11, 11, 32)   128         x14[0][0]                        \n",
            "__________________________________________________________________________________________________\n",
            "batch_normalization_23 (BatchNo (None, 11, 11, 32)   128         x15[0][0]                        \n",
            "__________________________________________________________________________________________________\n",
            "concatenate_6 (Concatenate)     (None, 11, 11, 64)   0           batch_normalization_22[0][0]     \n",
            "                                                                 batch_normalization_23[0][0]     \n",
            "__________________________________________________________________________________________________\n",
            "x17 (Conv2D)                    (None, 11, 11, 64)   36928       concatenate_6[0][0]              \n",
            "__________________________________________________________________________________________________\n",
            "x18 (Conv2D)                    (None, 11, 11, 128)  204928      concatenate_6[0][0]              \n",
            "__________________________________________________________________________________________________\n",
            "batch_normalization_24 (BatchNo (None, 11, 11, 64)   256         x17[0][0]                        \n",
            "__________________________________________________________________________________________________\n",
            "batch_normalization_25 (BatchNo (None, 11, 11, 128)  512         x18[0][0]                        \n",
            "__________________________________________________________________________________________________\n",
            "concatenate_7 (Concatenate)     (None, 11, 11, 192)  0           batch_normalization_24[0][0]     \n",
            "                                                                 batch_normalization_25[0][0]     \n",
            "__________________________________________________________________________________________________\n",
            "concatenate_8 (Concatenate)     (None, 11, 11, 256)  0           concatenate_6[0][0]              \n",
            "                                                                 concatenate_7[0][0]              \n",
            "__________________________________________________________________________________________________\n",
            "x31 (Conv2D)                    (None, 11, 11, 32)   73760       concatenate_8[0][0]              \n",
            "__________________________________________________________________________________________________\n",
            "batch_normalization_27 (BatchNo (None, 11, 11, 32)   128         x31[0][0]                        \n",
            "__________________________________________________________________________________________________\n",
            "conv2d_5 (Conv2D)               (None, 11, 11, 32)   1056        batch_normalization_27[0][0]     \n",
            "__________________________________________________________________________________________________\n",
            "x21 (Conv2D)                    (None, 9, 9, 64)     18496       conv2d_5[0][0]                   \n",
            "__________________________________________________________________________________________________\n",
            "batch_normalization_28 (BatchNo (None, 9, 9, 64)     256         x21[0][0]                        \n",
            "__________________________________________________________________________________________________\n",
            "conv2d_6 (Conv2D)               (None, 9, 9, 10)     650         batch_normalization_28[0][0]     \n",
            "__________________________________________________________________________________________________\n",
            "global_average_pooling2d_2 (Glo (None, 10)           0           conv2d_6[0][0]                   \n",
            "__________________________________________________________________________________________________\n",
            "activation_1 (Activation)       (None, 10)           0           global_average_pooling2d_2[0][0] \n",
            "==================================================================================================\n",
            "Total params: 1,623,818\n",
            "Trainable params: 1,622,218\n",
            "Non-trainable params: 1,600\n",
            "__________________________________________________________________________________________________\n"
          ],
          "name": "stdout"
        }
      ]
    },
    {
      "cell_type": "code",
      "metadata": {
        "colab_type": "code",
        "id": "73CAOU9LRavH",
        "outputId": "8f617f5f-6c5b-42ef-9fad-d68b9f16866b",
        "colab": {
          "base_uri": "https://localhost:8080/",
          "height": 71
        }
      },
      "source": [
        "# checkpoint\n",
        "filepath=\"/content/drive/My Drive/AdvancedConvolutions/Assignment6BWithGAP/Models/weights-{epoch:02d}-{val_acc:.2f}.hdf5\"\n",
        "checkpoint = ModelCheckpoint(filepath, monitor='val_acc', verbose=1, save_best_only=True, mode='max')\n",
        "\n",
        "# define early stopping callback\n",
        "earlystop = EarlyStopping(monitor='val_acc', min_delta=0.0001, patience=5, \\\n",
        "                          verbose=1, mode='auto')\n",
        "\n",
        "callbacks_list = [earlystop, checkpoint]\n",
        "\n",
        "# Compile the model\n",
        "model.compile(optimizer='adam', loss='categorical_crossentropy', metrics=['accuracy'])"
      ],
      "execution_count": 0,
      "outputs": [
        {
          "output_type": "stream",
          "text": [
            "WARNING:tensorflow:From /usr/local/lib/python3.6/dist-packages/keras/optimizers.py:793: The name tf.train.Optimizer is deprecated. Please use tf.compat.v1.train.Optimizer instead.\n",
            "\n"
          ],
          "name": "stdout"
        }
      ]
    },
    {
      "cell_type": "code",
      "metadata": {
        "colab_type": "code",
        "outputId": "c531c262-c3b7-48bd-a613-43d09a34bc50",
        "id": "fCuOHJv8RavZ",
        "colab": {
          "base_uri": "https://localhost:8080/",
          "height": 54
        }
      },
      "source": [
        "from google.colab import drive\n",
        "drive.mount('/content/drive')"
      ],
      "execution_count": 0,
      "outputs": [
        {
          "output_type": "stream",
          "text": [
            "Drive already mounted at /content/drive; to attempt to forcibly remount, call drive.mount(\"/content/drive\", force_remount=True).\n"
          ],
          "name": "stdout"
        }
      ]
    },
    {
      "cell_type": "code",
      "metadata": {
        "colab_type": "code",
        "outputId": "2eda5a61-b512-4dd3-f05f-bf6913506730",
        "id": "VBnVCRddRavq",
        "colab": {
          "base_uri": "https://localhost:8080/",
          "height": 1000
        }
      },
      "source": [
        "from keras.preprocessing.image import ImageDataGenerator\n",
        "\n",
        "# applying transformation to image\n",
        "train_gen = ImageDataGenerator(zoom_range=0.0, horizontal_flip=False, featurewise_center=True, featurewise_std_normalization=True)\n",
        "test_gen = ImageDataGenerator(featurewise_center=True, featurewise_std_normalization=True)\n",
        "# fit the data augmentation\n",
        "train_gen.fit(train_features)\n",
        "test_gen.fit(test_features)\n",
        "\n",
        "training_generator= train_gen.flow(train_features, train_labels, batch_size=512)\n",
        "testing_generator= test_gen.flow(test_features, test_labels, batch_size=512, shuffle=False)\n",
        "\n",
        "\n",
        "# train the model\n",
        "start = time.time()\n",
        "# Train the model\n",
        "model_info = model.fit_generator(training_generator, \n",
        "                    steps_per_epoch = len(training_generator),\n",
        "                    epochs=100,\n",
        "                    validation_data = testing_generator,\n",
        "                    validation_steps = len(testing_generator),\n",
        "                    callbacks = callbacks_list)\n",
        "\n",
        "end = time.time()\n",
        "print (\"Model took %0.2f seconds to train\"%(end - start))\n",
        "# plot model history\n",
        "plot_model_history(model_info)\n",
        "# compute test accuracy\n",
        "print (\"Accuracy on test data is: %0.2f\"%accuracy_iterator(testing_generator, model))"
      ],
      "execution_count": 0,
      "outputs": [
        {
          "output_type": "stream",
          "text": [
            "Epoch 1/100\n",
            "98/98 [==============================] - 238s 2s/step - loss: 1.4586 - acc: 0.4666 - val_loss: 1.4690 - val_acc: 0.5217\n",
            "\n",
            "Epoch 00001: val_acc improved from -inf to 0.52170, saving model to /content/drive/My Drive/AdvancedConvolutions/Assignment6BWithGAP/Models/weights-01-0.52.hdf5\n",
            "Epoch 2/100\n",
            "98/98 [==============================] - 225s 2s/step - loss: 1.0083 - acc: 0.6394 - val_loss: 1.6163 - val_acc: 0.5210\n",
            "\n",
            "Epoch 00002: val_acc did not improve from 0.52170\n",
            "Epoch 3/100\n",
            "98/98 [==============================] - 226s 2s/step - loss: 0.8193 - acc: 0.7102 - val_loss: 1.2257 - val_acc: 0.6184\n",
            "\n",
            "Epoch 00003: val_acc improved from 0.52170 to 0.61840, saving model to /content/drive/My Drive/AdvancedConvolutions/Assignment6BWithGAP/Models/weights-03-0.62.hdf5\n",
            "Epoch 4/100\n",
            "98/98 [==============================] - 226s 2s/step - loss: 0.6907 - acc: 0.7600 - val_loss: 0.9303 - val_acc: 0.6961\n",
            "\n",
            "Epoch 00004: val_acc improved from 0.61840 to 0.69610, saving model to /content/drive/My Drive/AdvancedConvolutions/Assignment6BWithGAP/Models/weights-04-0.70.hdf5\n",
            "Epoch 5/100\n",
            "98/98 [==============================] - 226s 2s/step - loss: 0.5868 - acc: 0.7945 - val_loss: 0.9028 - val_acc: 0.7122\n",
            "\n",
            "Epoch 00005: val_acc improved from 0.69610 to 0.71220, saving model to /content/drive/My Drive/AdvancedConvolutions/Assignment6BWithGAP/Models/weights-05-0.71.hdf5\n",
            "Epoch 6/100\n",
            "98/98 [==============================] - 226s 2s/step - loss: 0.5075 - acc: 0.8227 - val_loss: 0.9149 - val_acc: 0.7037\n",
            "\n",
            "Epoch 00006: val_acc did not improve from 0.71220\n",
            "Epoch 7/100\n",
            "98/98 [==============================] - 226s 2s/step - loss: 0.4270 - acc: 0.8532 - val_loss: 0.8688 - val_acc: 0.7342\n",
            "\n",
            "Epoch 00007: val_acc improved from 0.71220 to 0.73420, saving model to /content/drive/My Drive/AdvancedConvolutions/Assignment6BWithGAP/Models/weights-07-0.73.hdf5\n",
            "Epoch 8/100\n",
            "98/98 [==============================] - 226s 2s/step - loss: 0.3560 - acc: 0.8780 - val_loss: 0.9739 - val_acc: 0.7194\n",
            "\n",
            "Epoch 00008: val_acc did not improve from 0.73420\n",
            "Epoch 9/100\n",
            "98/98 [==============================] - 226s 2s/step - loss: 0.2927 - acc: 0.8994 - val_loss: 1.0769 - val_acc: 0.7085\n",
            "\n",
            "Epoch 00009: val_acc did not improve from 0.73420\n",
            "Epoch 10/100\n",
            "98/98 [==============================] - 226s 2s/step - loss: 0.2456 - acc: 0.9166 - val_loss: 1.2415 - val_acc: 0.6991\n",
            "\n",
            "Epoch 00010: val_acc did not improve from 0.73420\n",
            "Epoch 11/100\n",
            "98/98 [==============================] - 226s 2s/step - loss: 0.1971 - acc: 0.9330 - val_loss: 1.1268 - val_acc: 0.7177\n",
            "\n",
            "Epoch 00011: val_acc did not improve from 0.73420\n",
            "Epoch 12/100\n",
            "98/98 [==============================] - 226s 2s/step - loss: 0.1663 - acc: 0.9424 - val_loss: 1.0483 - val_acc: 0.7303\n",
            "\n",
            "Epoch 00012: val_acc did not improve from 0.73420\n",
            "Epoch 00012: early stopping\n",
            "Model took 2726.75 seconds to train\n"
          ],
          "name": "stdout"
        },
        {
          "output_type": "display_data",
          "data": {
            "image/png": "[encoded data removed]",
            "text/plain": [
              "<Figure size 1080x360 with 2 Axes>"
            ]
          },
          "metadata": {
            "tags": []
          }
        },
        {
          "output_type": "stream",
          "text": [
            "Accuracy on test data is: 73.03\n"
          ],
          "name": "stdout"
        }
      ]
    },
    {
      "cell_type": "code",
      "metadata": {
        "id": "uKxvMicVSSex",
        "colab_type": "code",
        "colab": {}
      },
      "source": [
        ""
      ],
      "execution_count": 0,
      "outputs": []
    }
  ]
}