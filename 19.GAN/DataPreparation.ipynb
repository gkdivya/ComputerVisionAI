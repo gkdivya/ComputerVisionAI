{
  "nbformat": 4,
  "nbformat_minor": 0,
  "metadata": {
    "colab": {
      "name": "Untitled8.ipynb",
      "provenance": [],
      "include_colab_link": true
    },
    "kernelspec": {
      "name": "python3",
      "display_name": "Python 3"
    }
  },
  "cells": [
    {
      "cell_type": "markdown",
      "metadata": {
        "id": "view-in-github",
        "colab_type": "text"
      },
      "source": [
        "<a href=\"https://colab.research.google.com/github/gkdivya/EVA/blob/master/19.GAN/DataPreparation.ipynb\" target=\"_parent\"><img src=\"https://colab.research.google.com/assets/colab-badge.svg\" alt=\"Open In Colab\"/></a>"
      ]
    },
    {
      "cell_type": "code",
      "metadata": {
        "id": "mhvo-fWRfb-3",
        "colab_type": "code",
        "colab": {}
      },
      "source": [
        "import shutil\n",
        "import numpy as np #Math lib\n",
        "import cv2 #Image manipulation lib\n",
        "import os #Os commands"
      ],
      "execution_count": 0,
      "outputs": []
    },
    {
      "cell_type": "code",
      "metadata": {
        "id": "bhCNzCmAfalw",
        "colab_type": "code",
        "outputId": "69fd72b7-ef58-4ec0-d8ad-c3063c20190a",
        "colab": {
          "base_uri": "https://localhost:8080/",
          "height": 121
        }
      },
      "source": [
        "from google.colab import drive\n",
        "drive.mount('/content/drive')"
      ],
      "execution_count": 0,
      "outputs": [
        {
          "output_type": "stream",
          "text": [
            "Go to this URL in a browser: https://accounts.google.com/o/oauth2/auth?client_id=947318989803-6bn6qk8qdgf4n4g3pfee6491hc0brc4i.apps.googleusercontent.com&redirect_uri=urn%3Aietf%3Awg%3Aoauth%3A2.0%3Aoob&scope=email%20https%3A%2F%2Fwww.googleapis.com%2Fauth%2Fdocs.test%20https%3A%2F%2Fwww.googleapis.com%2Fauth%2Fdrive%20https%3A%2F%2Fwww.googleapis.com%2Fauth%2Fdrive.photos.readonly%20https%3A%2F%2Fwww.googleapis.com%2Fauth%2Fpeopleapi.readonly&response_type=code\n",
            "\n",
            "Enter your authorization code:\n",
            "··········\n",
            "Mounted at /content/drive\n"
          ],
          "name": "stdout"
        }
      ]
    },
    {
      "cell_type": "code",
      "metadata": {
        "id": "nlB8dSqrUId6",
        "colab_type": "code",
        "colab": {}
      },
      "source": [
        "# FolderPath\n",
        "folderpath=\"/content/drive/My Drive/Dataset/Annotations/YOLO/FaceAngle/\"\n",
        "resizedFolderPath=\"/content/drive/My Drive/Dataset/Annotations/YOLO/FaceAngle/resized/\"\n"
      ],
      "execution_count": 0,
      "outputs": []
    },
    {
      "cell_type": "code",
      "metadata": {
        "colab_type": "code",
        "id": "Uoce8E1rg5X1",
        "colab": {}
      },
      "source": [
        "for filename in os.listdir(\"/\"):\n",
        "    if filename.endswith(\"jpg\"): \n",
        "      shutil.move(\"/\"+filename, folderpath) "
      ],
      "execution_count": 0,
      "outputs": []
    },
    {
      "cell_type": "code",
      "metadata": {
        "id": "2HHEmGc5n5pa",
        "colab_type": "code",
        "outputId": "1ae6ee84-a450-4c9f-f05e-14958b8b4a98",
        "colab": {
          "base_uri": "https://localhost:8080/",
          "height": 34
        }
      },
      "source": [
        "pic_num = 2\n",
        "from google.colab.patches import cv2_imshow\n",
        "img=cv2.imread(folderpath+\"2.jpg\") \n",
        "resized_image=cv2.resize(img,(400,400))\n",
        "os.chdir(resizedFolderPath)\n",
        "cv2.imwrite(os.path.join(resizedFolderPath, \"img_\"+str(f'{pic_num:03}') +\".jpg\"),resized_image)\n",
        "    "
      ],
      "execution_count": 0,
      "outputs": [
        {
          "output_type": "execute_result",
          "data": {
            "text/plain": [
              "True"
            ]
          },
          "metadata": {
            "tags": []
          },
          "execution_count": 33
        }
      ]
    },
    {
      "cell_type": "code",
      "metadata": {
        "id": "SWut-EIRiNBx",
        "colab_type": "code",
        "outputId": "6f4e5aa6-7968-43d4-b619-cac982f6af43",
        "colab": {
          "base_uri": "https://localhost:8080/",
          "height": 1000
        }
      },
      "source": [
        "\n",
        "pic_num=1   #Initialize var pic_num with value 1\n",
        "for filename in os.listdir(folderpath): \n",
        " #print(filename)\n",
        " #print(str(f'{pic_num:03}'))\n",
        " try: \n",
        "    img=cv2.imread(folderpath+filename) \n",
        "    resized_image=cv2.resize(img,(400,400))\n",
        "    #os.chdir(resizedFolderPath)\n",
        "    cv2.imwrite(os.path.join(resizedFolderPath, \"img_\"+str(f'{pic_num:03}') +\".jpg\"),resized_image)\n",
        "    pic_num+=1 #Increment variable pic_num\n",
        " except Exception as e: #If there was a problem during the operation\n",
        "      print(str(e)) #Prints the exception"
      ],
      "execution_count": 0,
      "outputs": [
        {
          "output_type": "stream",
          "text": [
            "1.jpg\n",
            "001\n",
            "80.jpg\n",
            "002\n",
            "108.jpg\n",
            "003\n",
            "136.jpg\n",
            "004\n",
            "34 (2).jpg\n",
            "005\n",
            "11.jpg\n",
            "006\n",
            "329.jpg\n",
            "007\n",
            "21.jpg\n",
            "008\n",
            "23 (2).jpg\n",
            "009\n",
            "14.jpg\n",
            "010\n",
            "299.jpg\n",
            "011\n",
            "104.jpg\n",
            "012\n",
            "207.jpg\n",
            "013\n",
            "220.jpg\n",
            "014\n",
            "67.jpg\n",
            "015\n",
            "161.jpg\n",
            "016\n",
            "157.jpg\n",
            "017\n",
            "94.jpg\n",
            "018\n",
            "25.jpg\n",
            "019\n",
            "42.jpg\n",
            "020\n",
            "177.jpg\n",
            "021\n",
            "105.jpg\n",
            "022\n",
            "164.jpg\n",
            "023\n",
            "15.jpg\n",
            "024\n",
            "40.jpg\n",
            "025\n",
            "43.jpg\n",
            "026\n",
            "32.jpg\n",
            "027\n",
            "97.jpg\n",
            "028\n",
            "230.jpg\n",
            "029\n",
            "76.jpg\n",
            "030\n",
            "105 (2).jpg\n",
            "031\n",
            "138.jpg\n",
            "032\n",
            "6.jpg\n",
            "033\n",
            "32 (2).jpg\n",
            "034\n",
            "10.jpg\n",
            "035\n",
            "23 (3).jpg\n",
            "036\n",
            "57 (2).jpg\n",
            "037\n",
            "337.jpg\n",
            "038\n",
            "142.jpg\n",
            "039\n",
            "361.jpg\n",
            "040\n",
            "7.jpg\n",
            "041\n",
            "59.jpg\n",
            "042\n",
            "376.jpg\n",
            "043\n",
            "387.jpg\n",
            "044\n",
            "123.jpg\n",
            "045\n",
            "13.jpg\n",
            "046\n",
            "238.jpg\n",
            "047\n",
            "228.jpg\n",
            "048\n",
            "60.jpg\n",
            "049\n",
            "90.jpg\n",
            "050\n",
            "34.jpg\n",
            "051\n",
            "24.jpg\n",
            "052\n",
            "64.jpg\n",
            "053\n",
            "9.jpg\n",
            "054\n",
            "8.jpg\n",
            "055\n",
            "33.jpg\n",
            "056\n",
            "49 (2).jpg\n",
            "057\n",
            "239.jpg\n",
            "058\n",
            "81.jpg\n",
            "059\n",
            "87 (2).jpg\n",
            "060\n",
            "364.jpg\n",
            "061\n",
            "99.jpg\n",
            "062\n",
            "4.jpg\n",
            "063\n",
            "54.jpg\n",
            "064\n",
            "47.jpg\n",
            "065\n",
            "1 (2).jpg\n",
            "066\n",
            "171.jpg\n",
            "067\n",
            "112.jpg\n",
            "068\n",
            "28.jpg\n",
            "069\n",
            "61.jpg\n",
            "070\n",
            "117.jpg\n",
            "071\n",
            "2.jpg\n",
            "072\n",
            "41.jpg\n",
            "073\n",
            "39.jpg\n",
            "074\n",
            "17.jpg\n",
            "075\n",
            "268.jpg\n",
            "076\n",
            "270.jpg\n",
            "077\n",
            "297.jpg\n",
            "078\n",
            "31 (2).jpg\n",
            "079\n",
            "3.jpg\n",
            "080\n",
            "170.jpg\n",
            "081\n",
            "330.jpg\n",
            "082\n",
            "96.jpg\n",
            "083\n",
            "354.jpg\n",
            "084\n",
            "97 (2).jpg\n",
            "085\n",
            "66.jpg\n",
            "086\n",
            "56.jpg\n",
            "087\n",
            "31.jpg\n",
            "088\n",
            "2 (2).jpg\n",
            "089\n",
            "52.jpg\n",
            "090\n",
            "62.jpg\n",
            "091\n",
            "160.jpg\n",
            "092\n",
            "191.jpg\n",
            "093\n",
            "55.jpg\n",
            "094\n",
            "87.jpg\n",
            "095\n",
            "91.jpg\n",
            "096\n",
            "208.jpg\n",
            "097\n",
            "340.jpg\n",
            "098\n",
            "69.jpg\n",
            "099\n",
            "183.jpg\n",
            "100\n",
            "240.jpg\n",
            "101\n",
            "14 (2).jpg\n",
            "102\n",
            "98.jpg\n",
            "103\n",
            "93.jpg\n",
            "104\n",
            "350.jpg\n",
            "105\n",
            "22.jpg\n",
            "106\n",
            "44.jpg\n",
            "107\n",
            "322.jpg\n",
            "108\n",
            "5.jpg\n",
            "109\n",
            "391.jpg\n",
            "110\n",
            "23.jpg\n",
            "111\n",
            "205.jpg\n",
            "112\n",
            "65.jpg\n",
            "113\n",
            "84.jpg\n",
            "114\n",
            "360.jpg\n",
            "115\n",
            "182.jpg\n",
            "116\n",
            "49.jpg\n",
            "117\n",
            "12.jpg\n",
            "118\n",
            "279.jpg\n",
            "119\n",
            "57.jpg\n",
            "120\n",
            "resized\n",
            "121\n",
            "OpenCV(3.4.3) /io/opencv/modules/imgproc/src/resize.cpp:4044: error: (-215:Assertion failed) !ssize.empty() in function 'resize'\n",
            "\n"
          ],
          "name": "stdout"
        }
      ]
    },
    {
      "cell_type": "code",
      "metadata": {
        "id": "DK1g9SYlmKZv",
        "colab_type": "code",
        "colab": {}
      },
      "source": [
        ""
      ],
      "execution_count": 0,
      "outputs": []
    }
  ]
}