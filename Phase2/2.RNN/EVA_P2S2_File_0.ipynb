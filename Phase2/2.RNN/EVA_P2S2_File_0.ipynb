{
  "nbformat": 4,
  "nbformat_minor": 0,
  "metadata": {
    "colab": {
      "name": "EVA P2S2 File 0.ipynb",
      "provenance": [],
      "collapsed_sections": [],
      "include_colab_link": true
    },
    "kernelspec": {
      "name": "python3",
      "display_name": "Python 3"
    },
    "accelerator": "GPU"
  },
  "cells": [
    {
      "cell_type": "markdown",
      "metadata": {
        "id": "view-in-github",
        "colab_type": "text"
      },
      "source": [
        "<a href=\"https://colab.research.google.com/github/gkdivya/EVA/blob/master/Phase2/2.RNN/EVA_P2S2_File_0.ipynb\" target=\"_parent\"><img src=\"https://colab.research.google.com/assets/colab-badge.svg\" alt=\"Open In Colab\"/></a>"
      ]
    },
    {
      "cell_type": "code",
      "metadata": {
        "id": "PsRXqXtrZg8j",
        "colab_type": "code",
        "outputId": "c8ffddf1-0b70-4fc0-da91-8ddb14b4a5f9",
        "colab": {
          "base_uri": "https://localhost:8080/",
          "height": 79
        }
      },
      "source": [
        "%matplotlib inline\n",
        "import pandas as pd\n",
        "import numpy as np\n",
        "import matplotlib.pyplot as plt\n",
        "from keras.models import Sequential\n",
        "from keras.layers import Dense, SimpleRNN"
      ],
      "execution_count": 2,
      "outputs": [
        {
          "output_type": "stream",
          "text": [
            "Using TensorFlow backend.\n"
          ],
          "name": "stderr"
        },
        {
          "output_type": "display_data",
          "data": {
            "text/html": [
              "<p style=\"color: red;\">\n",
              "The default version of TensorFlow in Colab will soon switch to TensorFlow 2.x.<br>\n",
              "We recommend you <a href=\"https://www.tensorflow.org/guide/migrate\" target=\"_blank\">upgrade</a> now \n",
              "or ensure your notebook will continue to use TensorFlow 1.x via the <code>%tensorflow_version 1.x</code> magic:\n",
              "<a href=\"https://colab.research.google.com/notebooks/tensorflow_version.ipynb\" target=\"_blank\">more info</a>.</p>\n"
            ],
            "text/plain": [
              "<IPython.core.display.HTML object>"
            ]
          },
          "metadata": {
            "tags": []
          }
        }
      ]
    },
    {
      "cell_type": "code",
      "metadata": {
        "id": "xexFmDLOZuZg",
        "colab_type": "code",
        "colab": {}
      },
      "source": [
        "# convert into dataset matrix\n",
        "def convertToMatrix(data, step):\n",
        " X, Y =[], []\n",
        " for i in range(len(data)-step):\n",
        "  d=i+step  \n",
        "  X.append(data[i:d,])\n",
        "  Y.append(data[d,])\n",
        " return np.array(X), np.array(Y)"
      ],
      "execution_count": 0,
      "outputs": []
    },
    {
      "cell_type": "code",
      "metadata": {
        "id": "buL6VQ8QZzeL",
        "colab_type": "code",
        "outputId": "47074a58-e273-487f-ce08-8804a447ab04",
        "colab": {
          "base_uri": "https://localhost:8080/",
          "height": 195
        }
      },
      "source": [
        "step = 4\n",
        "N = 1000    \n",
        "Tp = 800    \n",
        "\n",
        "t=np.arange(0,N)\n",
        "x=np.sin(0.02*t)+2*np.random.rand(N)\n",
        "df = pd.DataFrame(x)\n",
        "df.head()"
      ],
      "execution_count": 4,
      "outputs": [
        {
          "output_type": "execute_result",
          "data": {
            "text/html": [
              "<div>\n",
              "<style scoped>\n",
              "    .dataframe tbody tr th:only-of-type {\n",
              "        vertical-align: middle;\n",
              "    }\n",
              "\n",
              "    .dataframe tbody tr th {\n",
              "        vertical-align: top;\n",
              "    }\n",
              "\n",
              "    .dataframe thead th {\n",
              "        text-align: right;\n",
              "    }\n",
              "</style>\n",
              "<table border=\"1\" class=\"dataframe\">\n",
              "  <thead>\n",
              "    <tr style=\"text-align: right;\">\n",
              "      <th></th>\n",
              "      <th>0</th>\n",
              "    </tr>\n",
              "  </thead>\n",
              "  <tbody>\n",
              "    <tr>\n",
              "      <th>0</th>\n",
              "      <td>1.959653</td>\n",
              "    </tr>\n",
              "    <tr>\n",
              "      <th>1</th>\n",
              "      <td>1.422116</td>\n",
              "    </tr>\n",
              "    <tr>\n",
              "      <th>2</th>\n",
              "      <td>2.036587</td>\n",
              "    </tr>\n",
              "    <tr>\n",
              "      <th>3</th>\n",
              "      <td>1.652661</td>\n",
              "    </tr>\n",
              "    <tr>\n",
              "      <th>4</th>\n",
              "      <td>1.183162</td>\n",
              "    </tr>\n",
              "  </tbody>\n",
              "</table>\n",
              "</div>"
            ],
            "text/plain": [
              "          0\n",
              "0  1.959653\n",
              "1  1.422116\n",
              "2  2.036587\n",
              "3  1.652661\n",
              "4  1.183162"
            ]
          },
          "metadata": {
            "tags": []
          },
          "execution_count": 4
        }
      ]
    },
    {
      "cell_type": "code",
      "metadata": {
        "id": "-b8l_c4sZ02I",
        "colab_type": "code",
        "outputId": "cc8ae142-df60-4466-8bf0-42843e01dbcf",
        "colab": {
          "base_uri": "https://localhost:8080/",
          "height": 265
        }
      },
      "source": [
        "plt.plot(df)\n",
        "plt.show()"
      ],
      "execution_count": 4,
      "outputs": [
        {
          "output_type": "display_data",
          "data": {
            "image/png": "[encoded data removed]",
            "text/plain": [
              "<Figure size 432x288 with 1 Axes>"
            ]
          },
          "metadata": {
            "tags": []
          }
        }
      ]
    },
    {
      "cell_type": "code",
      "metadata": {
        "id": "OETjs_L1Z2zx",
        "colab_type": "code",
        "colab": {}
      },
      "source": [
        "values=df.values\n",
        "train,test = values[0:Tp,:], values[Tp:N,:]\n",
        "\n",
        "# add step elements into train and test\n",
        "test = np.append(test,np.repeat(test[-1,],step))\n",
        "train = np.append(train,np.repeat(train[-1,],step))\n",
        " \n",
        "trainX,trainY =convertToMatrix(train,step)\n",
        "testX,testY =convertToMatrix(test,step)\n",
        "trainX = np.reshape(trainX, (trainX.shape[0], 1, trainX.shape[1]))\n",
        "testX = np.reshape(testX, (testX.shape[0], 1, testX.shape[1]))"
      ],
      "execution_count": 0,
      "outputs": []
    },
    {
      "cell_type": "code",
      "metadata": {
        "id": "AcKtwCCHZ4Ww",
        "colab_type": "code",
        "outputId": "f029caad-e5f9-4e37-f46f-3405e88d59f3",
        "colab": {
          "base_uri": "https://localhost:8080/",
          "height": 252
        }
      },
      "source": [
        "model = Sequential()\n",
        "model.add(SimpleRNN(units=32, input_shape=(1,step), activation=\"relu\"))\n",
        "model.add(Dense(8, activation=\"relu\")) \n",
        "model.add(Dense(1))\n",
        "model.compile(loss='mean_squared_error', optimizer='rmsprop')\n",
        "model.summary()"
      ],
      "execution_count": 6,
      "outputs": [
        {
          "output_type": "stream",
          "text": [
            "Model: \"sequential_3\"\n",
            "_________________________________________________________________\n",
            "Layer (type)                 Output Shape              Param #   \n",
            "=================================================================\n",
            "simple_rnn_2 (SimpleRNN)     (None, 32)                1184      \n",
            "_________________________________________________________________\n",
            "dense_3 (Dense)              (None, 8)                 264       \n",
            "_________________________________________________________________\n",
            "dense_4 (Dense)              (None, 1)                 9         \n",
            "=================================================================\n",
            "Total params: 1,457\n",
            "Trainable params: 1,457\n",
            "Non-trainable params: 0\n",
            "_________________________________________________________________\n"
          ],
          "name": "stdout"
        }
      ]
    },
    {
      "cell_type": "code",
      "metadata": {
        "id": "tsF5r8eQZ6kr",
        "colab_type": "code",
        "outputId": "078069c3-5cf0-4b5b-8786-6aeed9c6efae",
        "colab": {
          "base_uri": "https://localhost:8080/",
          "height": 1000
        }
      },
      "source": [
        "model.fit(trainX,trainY, epochs=100, batch_size=16, verbose=2)\n",
        "trainPredict = model.predict(trainX)\n",
        "testPredict= model.predict(testX)\n",
        "predicted=np.concatenate((trainPredict,testPredict),axis=0)\n",
        "\n",
        "trainScore = model.evaluate(trainX, trainY, verbose=0)\n",
        "print(trainScore)"
      ],
      "execution_count": 7,
      "outputs": [
        {
          "output_type": "stream",
          "text": [
            "WARNING:tensorflow:From /usr/local/lib/python3.6/dist-packages/keras/backend/tensorflow_backend.py:1033: The name tf.assign_add is deprecated. Please use tf.compat.v1.assign_add instead.\n",
            "\n",
            "WARNING:tensorflow:From /usr/local/lib/python3.6/dist-packages/keras/backend/tensorflow_backend.py:1020: The name tf.assign is deprecated. Please use tf.compat.v1.assign instead.\n",
            "\n",
            "WARNING:tensorflow:From /usr/local/lib/python3.6/dist-packages/keras/backend/tensorflow_backend.py:3005: The name tf.Session is deprecated. Please use tf.compat.v1.Session instead.\n",
            "\n",
            "Epoch 1/100\n",
            "WARNING:tensorflow:From /usr/local/lib/python3.6/dist-packages/keras/backend/tensorflow_backend.py:190: The name tf.get_default_session is deprecated. Please use tf.compat.v1.get_default_session instead.\n",
            "\n",
            "WARNING:tensorflow:From /usr/local/lib/python3.6/dist-packages/keras/backend/tensorflow_backend.py:197: The name tf.ConfigProto is deprecated. Please use tf.compat.v1.ConfigProto instead.\n",
            "\n",
            "WARNING:tensorflow:From /usr/local/lib/python3.6/dist-packages/keras/backend/tensorflow_backend.py:207: The name tf.global_variables is deprecated. Please use tf.compat.v1.global_variables instead.\n",
            "\n",
            "WARNING:tensorflow:From /usr/local/lib/python3.6/dist-packages/keras/backend/tensorflow_backend.py:216: The name tf.is_variable_initialized is deprecated. Please use tf.compat.v1.is_variable_initialized instead.\n",
            "\n",
            "WARNING:tensorflow:From /usr/local/lib/python3.6/dist-packages/keras/backend/tensorflow_backend.py:223: The name tf.variables_initializer is deprecated. Please use tf.compat.v1.variables_initializer instead.\n",
            "\n",
            " - 10s - loss: 0.4973\n",
            "Epoch 2/100\n",
            " - 0s - loss: 0.4473\n",
            "Epoch 3/100\n",
            " - 0s - loss: 0.4334\n",
            "Epoch 4/100\n",
            " - 0s - loss: 0.4250\n",
            "Epoch 5/100\n",
            " - 0s - loss: 0.4205\n",
            "Epoch 6/100\n",
            " - 0s - loss: 0.4183\n",
            "Epoch 7/100\n",
            " - 0s - loss: 0.4177\n",
            "Epoch 8/100\n",
            " - 0s - loss: 0.4147\n",
            "Epoch 9/100\n",
            " - 0s - loss: 0.4130\n",
            "Epoch 10/100\n",
            " - 0s - loss: 0.4090\n",
            "Epoch 11/100\n",
            " - 0s - loss: 0.4114\n",
            "Epoch 12/100\n",
            " - 0s - loss: 0.4104\n",
            "Epoch 13/100\n",
            " - 0s - loss: 0.4084\n",
            "Epoch 14/100\n",
            " - 0s - loss: 0.4095\n",
            "Epoch 15/100\n",
            " - 0s - loss: 0.4078\n",
            "Epoch 16/100\n",
            " - 0s - loss: 0.4055\n",
            "Epoch 17/100\n",
            " - 0s - loss: 0.4031\n",
            "Epoch 18/100\n",
            " - 0s - loss: 0.4014\n",
            "Epoch 19/100\n",
            " - 0s - loss: 0.4027\n",
            "Epoch 20/100\n",
            " - 0s - loss: 0.4016\n",
            "Epoch 21/100\n",
            " - 0s - loss: 0.4030\n",
            "Epoch 22/100\n",
            " - 0s - loss: 0.3996\n",
            "Epoch 23/100\n",
            " - 0s - loss: 0.4004\n",
            "Epoch 24/100\n",
            " - 0s - loss: 0.4005\n",
            "Epoch 25/100\n",
            " - 0s - loss: 0.3981\n",
            "Epoch 26/100\n",
            " - 0s - loss: 0.4006\n",
            "Epoch 27/100\n",
            " - 0s - loss: 0.3927\n",
            "Epoch 28/100\n",
            " - 0s - loss: 0.3958\n",
            "Epoch 29/100\n",
            " - 0s - loss: 0.3969\n",
            "Epoch 30/100\n",
            " - 0s - loss: 0.3952\n",
            "Epoch 31/100\n",
            " - 0s - loss: 0.3946\n",
            "Epoch 32/100\n",
            " - 0s - loss: 0.3958\n",
            "Epoch 33/100\n",
            " - 0s - loss: 0.3954\n",
            "Epoch 34/100\n",
            " - 0s - loss: 0.3953\n",
            "Epoch 35/100\n",
            " - 0s - loss: 0.3945\n",
            "Epoch 36/100\n",
            " - 0s - loss: 0.3927\n",
            "Epoch 37/100\n",
            " - 0s - loss: 0.3921\n",
            "Epoch 38/100\n",
            " - 0s - loss: 0.3881\n",
            "Epoch 39/100\n",
            " - 0s - loss: 0.3932\n",
            "Epoch 40/100\n",
            " - 0s - loss: 0.3922\n",
            "Epoch 41/100\n",
            " - 0s - loss: 0.3897\n",
            "Epoch 42/100\n",
            " - 0s - loss: 0.3915\n",
            "Epoch 43/100\n",
            " - 0s - loss: 0.3891\n",
            "Epoch 44/100\n",
            " - 0s - loss: 0.3858\n",
            "Epoch 45/100\n",
            " - 0s - loss: 0.3886\n",
            "Epoch 46/100\n",
            " - 0s - loss: 0.3902\n",
            "Epoch 47/100\n",
            " - 0s - loss: 0.3872\n",
            "Epoch 48/100\n",
            " - 0s - loss: 0.3870\n",
            "Epoch 49/100\n",
            " - 0s - loss: 0.3840\n",
            "Epoch 50/100\n",
            " - 0s - loss: 0.3868\n",
            "Epoch 51/100\n",
            " - 0s - loss: 0.3874\n",
            "Epoch 52/100\n",
            " - 0s - loss: 0.3820\n",
            "Epoch 53/100\n",
            " - 0s - loss: 0.3844\n",
            "Epoch 54/100\n",
            " - 0s - loss: 0.3865\n",
            "Epoch 55/100\n",
            " - 0s - loss: 0.3845\n",
            "Epoch 56/100\n",
            " - 0s - loss: 0.3816\n",
            "Epoch 57/100\n",
            " - 0s - loss: 0.3839\n",
            "Epoch 58/100\n",
            " - 0s - loss: 0.3811\n",
            "Epoch 59/100\n",
            " - 0s - loss: 0.3844\n",
            "Epoch 60/100\n",
            " - 0s - loss: 0.3806\n",
            "Epoch 61/100\n",
            " - 0s - loss: 0.3813\n",
            "Epoch 62/100\n",
            " - 0s - loss: 0.3814\n",
            "Epoch 63/100\n",
            " - 0s - loss: 0.3798\n",
            "Epoch 64/100\n",
            " - 0s - loss: 0.3820\n",
            "Epoch 65/100\n",
            " - 0s - loss: 0.3808\n",
            "Epoch 66/100\n",
            " - 0s - loss: 0.3798\n",
            "Epoch 67/100\n",
            " - 0s - loss: 0.3776\n",
            "Epoch 68/100\n",
            " - 0s - loss: 0.3780\n",
            "Epoch 69/100\n",
            " - 0s - loss: 0.3810\n",
            "Epoch 70/100\n",
            " - 0s - loss: 0.3796\n",
            "Epoch 71/100\n",
            " - 0s - loss: 0.3745\n",
            "Epoch 72/100\n",
            " - 0s - loss: 0.3786\n",
            "Epoch 73/100\n",
            " - 0s - loss: 0.3764\n",
            "Epoch 74/100\n",
            " - 0s - loss: 0.3791\n",
            "Epoch 75/100\n",
            " - 0s - loss: 0.3777\n",
            "Epoch 76/100\n",
            " - 0s - loss: 0.3760\n",
            "Epoch 77/100\n",
            " - 0s - loss: 0.3769\n",
            "Epoch 78/100\n",
            " - 0s - loss: 0.3739\n",
            "Epoch 79/100\n",
            " - 0s - loss: 0.3782\n",
            "Epoch 80/100\n",
            " - 0s - loss: 0.3756\n",
            "Epoch 81/100\n",
            " - 0s - loss: 0.3765\n",
            "Epoch 82/100\n",
            " - 0s - loss: 0.3756\n",
            "Epoch 83/100\n",
            " - 0s - loss: 0.3735\n",
            "Epoch 84/100\n",
            " - 0s - loss: 0.3749\n",
            "Epoch 85/100\n",
            " - 0s - loss: 0.3731\n",
            "Epoch 86/100\n",
            " - 0s - loss: 0.3757\n",
            "Epoch 87/100\n",
            " - 0s - loss: 0.3738\n",
            "Epoch 88/100\n",
            " - 0s - loss: 0.3747\n",
            "Epoch 89/100\n",
            " - 0s - loss: 0.3721\n",
            "Epoch 90/100\n",
            " - 0s - loss: 0.3716\n",
            "Epoch 91/100\n",
            " - 0s - loss: 0.3711\n",
            "Epoch 92/100\n",
            " - 0s - loss: 0.3717\n",
            "Epoch 93/100\n",
            " - 0s - loss: 0.3735\n",
            "Epoch 94/100\n",
            " - 0s - loss: 0.3743\n",
            "Epoch 95/100\n",
            " - 0s - loss: 0.3727\n",
            "Epoch 96/100\n",
            " - 0s - loss: 0.3709\n",
            "Epoch 97/100\n",
            " - 0s - loss: 0.3708\n",
            "Epoch 98/100\n",
            " - 0s - loss: 0.3716\n",
            "Epoch 99/100\n",
            " - 0s - loss: 0.3683\n",
            "Epoch 100/100\n",
            " - 0s - loss: 0.3695\n",
            "0.36745515823364255\n"
          ],
          "name": "stdout"
        }
      ]
    },
    {
      "cell_type": "code",
      "metadata": {
        "id": "GlxseXMaZ8B0",
        "colab_type": "code",
        "outputId": "16aefc09-092d-450f-bcdf-da3a1b7b1bf4",
        "colab": {
          "base_uri": "https://localhost:8080/",
          "height": 265
        }
      },
      "source": [
        "index = df.index.values\n",
        "plt.plot(index,df)\n",
        "plt.plot(index,predicted)\n",
        "plt.axvline(df.index[Tp], c=\"r\")\n",
        "plt.show()"
      ],
      "execution_count": 8,
      "outputs": [
        {
          "output_type": "display_data",
          "data": {
            "image/png": "[encoded data removed]",
            "text/plain": [
              "<Figure size 432x288 with 1 Axes>"
            ]
          },
          "metadata": {
            "tags": []
          }
        }
      ]
    },
    {
      "cell_type": "code",
      "metadata": {
        "id": "dHxiMsG2awa0",
        "colab_type": "code",
        "colab": {}
      },
      "source": [
        ""
      ],
      "execution_count": 0,
      "outputs": []
    }
  ]
}